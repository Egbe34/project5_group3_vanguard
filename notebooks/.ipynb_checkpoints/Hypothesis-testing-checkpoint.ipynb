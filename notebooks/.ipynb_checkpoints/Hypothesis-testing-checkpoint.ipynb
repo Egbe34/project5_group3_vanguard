{
 "cells": [
  {
   "cell_type": "code",
   "execution_count": 1,
   "id": "96a8dcc7-6750-4d09-b7ac-ec1ee5b1b2b0",
   "metadata": {},
   "outputs": [],
   "source": [
    "import pandas as pd\n",
    "import matplotlib.pyplot as plt\n",
    "import seaborn as sns\n",
    "import numpy as np"
   ]
  },
  {
   "cell_type": "code",
   "execution_count": 8,
   "id": "b5836d5c-1b14-453b-aef5-269dea3267f0",
   "metadata": {},
   "outputs": [
    {
     "data": {
      "text/plain": [
       "(70609, 9)"
      ]
     },
     "execution_count": 8,
     "metadata": {},
     "output_type": "execute_result"
    }
   ],
   "source": [
    "import pandas as pd\n",
    "# 1 TABLE --> df_final_demo\n",
    "df1 = pd.read_csv(\"../data/raw/df_final_demo.txt\")\n",
    "df1.shape"
   ]
  },
  {
   "cell_type": "code",
   "execution_count": 9,
   "id": "9c1afb2b-e058-4342-95ef-4481f6a1176e",
   "metadata": {},
   "outputs": [
    {
     "data": {
      "text/html": [
       "<div>\n",
       "<style scoped>\n",
       "    .dataframe tbody tr th:only-of-type {\n",
       "        vertical-align: middle;\n",
       "    }\n",
       "\n",
       "    .dataframe tbody tr th {\n",
       "        vertical-align: top;\n",
       "    }\n",
       "\n",
       "    .dataframe thead th {\n",
       "        text-align: right;\n",
       "    }\n",
       "</style>\n",
       "<table border=\"1\" class=\"dataframe\">\n",
       "  <thead>\n",
       "    <tr style=\"text-align: right;\">\n",
       "      <th></th>\n",
       "      <th>client_id</th>\n",
       "      <th>clnt_tenure_yr</th>\n",
       "      <th>clnt_tenure_mnth</th>\n",
       "      <th>clnt_age</th>\n",
       "      <th>gendr</th>\n",
       "      <th>num_accts</th>\n",
       "      <th>bal</th>\n",
       "      <th>calls_6_mnth</th>\n",
       "      <th>logons_6_mnth</th>\n",
       "    </tr>\n",
       "  </thead>\n",
       "  <tbody>\n",
       "    <tr>\n",
       "      <th>0</th>\n",
       "      <td>836976</td>\n",
       "      <td>6.0</td>\n",
       "      <td>73.0</td>\n",
       "      <td>60.5</td>\n",
       "      <td>U</td>\n",
       "      <td>2.0</td>\n",
       "      <td>45105.30</td>\n",
       "      <td>6.0</td>\n",
       "      <td>9.0</td>\n",
       "    </tr>\n",
       "    <tr>\n",
       "      <th>1</th>\n",
       "      <td>2304905</td>\n",
       "      <td>7.0</td>\n",
       "      <td>94.0</td>\n",
       "      <td>58.0</td>\n",
       "      <td>U</td>\n",
       "      <td>2.0</td>\n",
       "      <td>110860.30</td>\n",
       "      <td>6.0</td>\n",
       "      <td>9.0</td>\n",
       "    </tr>\n",
       "    <tr>\n",
       "      <th>2</th>\n",
       "      <td>1439522</td>\n",
       "      <td>5.0</td>\n",
       "      <td>64.0</td>\n",
       "      <td>32.0</td>\n",
       "      <td>U</td>\n",
       "      <td>2.0</td>\n",
       "      <td>52467.79</td>\n",
       "      <td>6.0</td>\n",
       "      <td>9.0</td>\n",
       "    </tr>\n",
       "    <tr>\n",
       "      <th>3</th>\n",
       "      <td>1562045</td>\n",
       "      <td>16.0</td>\n",
       "      <td>198.0</td>\n",
       "      <td>49.0</td>\n",
       "      <td>M</td>\n",
       "      <td>2.0</td>\n",
       "      <td>67454.65</td>\n",
       "      <td>3.0</td>\n",
       "      <td>6.0</td>\n",
       "    </tr>\n",
       "    <tr>\n",
       "      <th>4</th>\n",
       "      <td>5126305</td>\n",
       "      <td>12.0</td>\n",
       "      <td>145.0</td>\n",
       "      <td>33.0</td>\n",
       "      <td>F</td>\n",
       "      <td>2.0</td>\n",
       "      <td>103671.75</td>\n",
       "      <td>0.0</td>\n",
       "      <td>3.0</td>\n",
       "    </tr>\n",
       "  </tbody>\n",
       "</table>\n",
       "</div>"
      ],
      "text/plain": [
       "   client_id  clnt_tenure_yr  clnt_tenure_mnth  clnt_age gendr  num_accts  \\\n",
       "0     836976             6.0              73.0      60.5     U        2.0   \n",
       "1    2304905             7.0              94.0      58.0     U        2.0   \n",
       "2    1439522             5.0              64.0      32.0     U        2.0   \n",
       "3    1562045            16.0             198.0      49.0     M        2.0   \n",
       "4    5126305            12.0             145.0      33.0     F        2.0   \n",
       "\n",
       "         bal  calls_6_mnth  logons_6_mnth  \n",
       "0   45105.30           6.0            9.0  \n",
       "1  110860.30           6.0            9.0  \n",
       "2   52467.79           6.0            9.0  \n",
       "3   67454.65           3.0            6.0  \n",
       "4  103671.75           0.0            3.0  "
      ]
     },
     "execution_count": 9,
     "metadata": {},
     "output_type": "execute_result"
    }
   ],
   "source": [
    "df1.head()"
   ]
  },
  {
   "cell_type": "code",
   "execution_count": 10,
   "id": "c8ecf3d3-132b-41d1-9df3-d5cb4bca4a66",
   "metadata": {},
   "outputs": [
    {
     "data": {
      "text/plain": [
       "gendr\n",
       "     24125\n",
       "M    23724\n",
       "F    22746\n",
       "Name: count, dtype: int64"
      ]
     },
     "execution_count": 10,
     "metadata": {},
     "output_type": "execute_result"
    }
   ],
   "source": [
    "df1.gendr.unique()\n",
    "#df1['gendr'].fillna(' ')\n",
    "df1['gendr'].value_counts()\n",
    "\n",
    "#Replace gendr X and U for nothing\n",
    "df1['gendr'] = df1['gendr'].replace({'X': ' ', 'U': ' '})\n",
    "df1['gendr'].value_counts()\n"
   ]
  },
  {
   "cell_type": "code",
   "execution_count": 11,
   "id": "8ae401c7-10b4-45fe-95f7-4e93314306e1",
   "metadata": {},
   "outputs": [],
   "source": [
    "# 2 TABLE --> df_final_web_data_pt_1"
   ]
  },
  {
   "cell_type": "code",
   "execution_count": 12,
   "id": "60c1f8db-d73f-4179-be99-24f022d8a3a0",
   "metadata": {},
   "outputs": [
    {
     "data": {
      "text/html": [
       "<div>\n",
       "<style scoped>\n",
       "    .dataframe tbody tr th:only-of-type {\n",
       "        vertical-align: middle;\n",
       "    }\n",
       "\n",
       "    .dataframe tbody tr th {\n",
       "        vertical-align: top;\n",
       "    }\n",
       "\n",
       "    .dataframe thead th {\n",
       "        text-align: right;\n",
       "    }\n",
       "</style>\n",
       "<table border=\"1\" class=\"dataframe\">\n",
       "  <thead>\n",
       "    <tr style=\"text-align: right;\">\n",
       "      <th></th>\n",
       "      <th>client_id</th>\n",
       "      <th>visitor_id</th>\n",
       "      <th>visit_id</th>\n",
       "      <th>process_step</th>\n",
       "      <th>date_time</th>\n",
       "    </tr>\n",
       "  </thead>\n",
       "  <tbody>\n",
       "    <tr>\n",
       "      <th>0</th>\n",
       "      <td>9988021</td>\n",
       "      <td>580560515_7732621733</td>\n",
       "      <td>781255054_21935453173_531117</td>\n",
       "      <td>step_3</td>\n",
       "      <td>2017-04-17 15:27:07</td>\n",
       "    </tr>\n",
       "    <tr>\n",
       "      <th>1</th>\n",
       "      <td>9988021</td>\n",
       "      <td>580560515_7732621733</td>\n",
       "      <td>781255054_21935453173_531117</td>\n",
       "      <td>step_2</td>\n",
       "      <td>2017-04-17 15:26:51</td>\n",
       "    </tr>\n",
       "    <tr>\n",
       "      <th>2</th>\n",
       "      <td>9988021</td>\n",
       "      <td>580560515_7732621733</td>\n",
       "      <td>781255054_21935453173_531117</td>\n",
       "      <td>step_3</td>\n",
       "      <td>2017-04-17 15:19:22</td>\n",
       "    </tr>\n",
       "    <tr>\n",
       "      <th>3</th>\n",
       "      <td>9988021</td>\n",
       "      <td>580560515_7732621733</td>\n",
       "      <td>781255054_21935453173_531117</td>\n",
       "      <td>step_2</td>\n",
       "      <td>2017-04-17 15:19:13</td>\n",
       "    </tr>\n",
       "    <tr>\n",
       "      <th>4</th>\n",
       "      <td>9988021</td>\n",
       "      <td>580560515_7732621733</td>\n",
       "      <td>781255054_21935453173_531117</td>\n",
       "      <td>step_3</td>\n",
       "      <td>2017-04-17 15:18:04</td>\n",
       "    </tr>\n",
       "  </tbody>\n",
       "</table>\n",
       "</div>"
      ],
      "text/plain": [
       "   client_id            visitor_id                      visit_id process_step  \\\n",
       "0    9988021  580560515_7732621733  781255054_21935453173_531117       step_3   \n",
       "1    9988021  580560515_7732621733  781255054_21935453173_531117       step_2   \n",
       "2    9988021  580560515_7732621733  781255054_21935453173_531117       step_3   \n",
       "3    9988021  580560515_7732621733  781255054_21935453173_531117       step_2   \n",
       "4    9988021  580560515_7732621733  781255054_21935453173_531117       step_3   \n",
       "\n",
       "             date_time  \n",
       "0  2017-04-17 15:27:07  \n",
       "1  2017-04-17 15:26:51  \n",
       "2  2017-04-17 15:19:22  \n",
       "3  2017-04-17 15:19:13  \n",
       "4  2017-04-17 15:18:04  "
      ]
     },
     "execution_count": 12,
     "metadata": {},
     "output_type": "execute_result"
    }
   ],
   "source": [
    "import pandas as pd\n",
    "df2 = pd.read_csv(\"../data/raw/df_final_web_data_pt_1.txt\")\n",
    "df2.head()"
   ]
  },
  {
   "cell_type": "code",
   "execution_count": 13,
   "id": "5aeaff33-4b24-4fcb-86a1-762030275cc6",
   "metadata": {},
   "outputs": [
    {
     "data": {
      "text/plain": [
       "(343141, 5)"
      ]
     },
     "execution_count": 13,
     "metadata": {},
     "output_type": "execute_result"
    }
   ],
   "source": [
    "df2.shape"
   ]
  },
  {
   "cell_type": "code",
   "execution_count": 14,
   "id": "2178a6a8-48bf-4fd2-9143-4aae1fc25a90",
   "metadata": {},
   "outputs": [],
   "source": [
    "# 3rd Table"
   ]
  },
  {
   "cell_type": "code",
   "execution_count": 15,
   "id": "503178ff-f342-4650-8957-47532ae034c1",
   "metadata": {},
   "outputs": [
    {
     "data": {
      "text/plain": [
       "(412264, 5)"
      ]
     },
     "execution_count": 15,
     "metadata": {},
     "output_type": "execute_result"
    }
   ],
   "source": [
    "import pandas as pd\n",
    "df3 = pd.read_csv(\"../data/raw/df_final_web_data_pt_2.txt\")\n",
    "df3.shape"
   ]
  },
  {
   "cell_type": "code",
   "execution_count": 16,
   "id": "459e3b0d-0e7b-455c-8982-d3215cebc45b",
   "metadata": {},
   "outputs": [
    {
     "data": {
      "text/html": [
       "<div>\n",
       "<style scoped>\n",
       "    .dataframe tbody tr th:only-of-type {\n",
       "        vertical-align: middle;\n",
       "    }\n",
       "\n",
       "    .dataframe tbody tr th {\n",
       "        vertical-align: top;\n",
       "    }\n",
       "\n",
       "    .dataframe thead th {\n",
       "        text-align: right;\n",
       "    }\n",
       "</style>\n",
       "<table border=\"1\" class=\"dataframe\">\n",
       "  <thead>\n",
       "    <tr style=\"text-align: right;\">\n",
       "      <th></th>\n",
       "      <th>client_id</th>\n",
       "      <th>visitor_id</th>\n",
       "      <th>visit_id</th>\n",
       "      <th>process_step</th>\n",
       "      <th>date_time</th>\n",
       "    </tr>\n",
       "  </thead>\n",
       "  <tbody>\n",
       "    <tr>\n",
       "      <th>0</th>\n",
       "      <td>763412</td>\n",
       "      <td>601952081_10457207388</td>\n",
       "      <td>397475557_40440946728_419634</td>\n",
       "      <td>confirm</td>\n",
       "      <td>2017-06-06 08:56:00</td>\n",
       "    </tr>\n",
       "    <tr>\n",
       "      <th>1</th>\n",
       "      <td>6019349</td>\n",
       "      <td>442094451_91531546617</td>\n",
       "      <td>154620534_35331068705_522317</td>\n",
       "      <td>confirm</td>\n",
       "      <td>2017-06-01 11:59:27</td>\n",
       "    </tr>\n",
       "    <tr>\n",
       "      <th>2</th>\n",
       "      <td>6019349</td>\n",
       "      <td>442094451_91531546617</td>\n",
       "      <td>154620534_35331068705_522317</td>\n",
       "      <td>step_3</td>\n",
       "      <td>2017-06-01 11:58:48</td>\n",
       "    </tr>\n",
       "    <tr>\n",
       "      <th>3</th>\n",
       "      <td>6019349</td>\n",
       "      <td>442094451_91531546617</td>\n",
       "      <td>154620534_35331068705_522317</td>\n",
       "      <td>step_2</td>\n",
       "      <td>2017-06-01 11:58:08</td>\n",
       "    </tr>\n",
       "    <tr>\n",
       "      <th>4</th>\n",
       "      <td>6019349</td>\n",
       "      <td>442094451_91531546617</td>\n",
       "      <td>154620534_35331068705_522317</td>\n",
       "      <td>step_1</td>\n",
       "      <td>2017-06-01 11:57:58</td>\n",
       "    </tr>\n",
       "  </tbody>\n",
       "</table>\n",
       "</div>"
      ],
      "text/plain": [
       "   client_id             visitor_id                      visit_id  \\\n",
       "0     763412  601952081_10457207388  397475557_40440946728_419634   \n",
       "1    6019349  442094451_91531546617  154620534_35331068705_522317   \n",
       "2    6019349  442094451_91531546617  154620534_35331068705_522317   \n",
       "3    6019349  442094451_91531546617  154620534_35331068705_522317   \n",
       "4    6019349  442094451_91531546617  154620534_35331068705_522317   \n",
       "\n",
       "  process_step            date_time  \n",
       "0      confirm  2017-06-06 08:56:00  \n",
       "1      confirm  2017-06-01 11:59:27  \n",
       "2       step_3  2017-06-01 11:58:48  \n",
       "3       step_2  2017-06-01 11:58:08  \n",
       "4       step_1  2017-06-01 11:57:58  "
      ]
     },
     "execution_count": 16,
     "metadata": {},
     "output_type": "execute_result"
    }
   ],
   "source": [
    "df3.head()"
   ]
  },
  {
   "cell_type": "code",
   "execution_count": 17,
   "id": "fdfa8652-5f90-4c0e-972b-b0b49a3d1659",
   "metadata": {},
   "outputs": [
    {
     "data": {
      "text/html": [
       "<div>\n",
       "<style scoped>\n",
       "    .dataframe tbody tr th:only-of-type {\n",
       "        vertical-align: middle;\n",
       "    }\n",
       "\n",
       "    .dataframe tbody tr th {\n",
       "        vertical-align: top;\n",
       "    }\n",
       "\n",
       "    .dataframe thead th {\n",
       "        text-align: right;\n",
       "    }\n",
       "</style>\n",
       "<table border=\"1\" class=\"dataframe\">\n",
       "  <thead>\n",
       "    <tr style=\"text-align: right;\">\n",
       "      <th></th>\n",
       "      <th>client_id</th>\n",
       "      <th>visitor_id</th>\n",
       "      <th>visit_id</th>\n",
       "      <th>process_step</th>\n",
       "      <th>date_time</th>\n",
       "    </tr>\n",
       "  </thead>\n",
       "  <tbody>\n",
       "    <tr>\n",
       "      <th>0</th>\n",
       "      <td>9988021</td>\n",
       "      <td>580560515_7732621733</td>\n",
       "      <td>781255054_21935453173_531117</td>\n",
       "      <td>step_3</td>\n",
       "      <td>2017-04-17 15:27:07</td>\n",
       "    </tr>\n",
       "    <tr>\n",
       "      <th>1</th>\n",
       "      <td>9988021</td>\n",
       "      <td>580560515_7732621733</td>\n",
       "      <td>781255054_21935453173_531117</td>\n",
       "      <td>step_2</td>\n",
       "      <td>2017-04-17 15:26:51</td>\n",
       "    </tr>\n",
       "    <tr>\n",
       "      <th>2</th>\n",
       "      <td>9988021</td>\n",
       "      <td>580560515_7732621733</td>\n",
       "      <td>781255054_21935453173_531117</td>\n",
       "      <td>step_3</td>\n",
       "      <td>2017-04-17 15:19:22</td>\n",
       "    </tr>\n",
       "    <tr>\n",
       "      <th>3</th>\n",
       "      <td>9988021</td>\n",
       "      <td>580560515_7732621733</td>\n",
       "      <td>781255054_21935453173_531117</td>\n",
       "      <td>step_2</td>\n",
       "      <td>2017-04-17 15:19:13</td>\n",
       "    </tr>\n",
       "    <tr>\n",
       "      <th>4</th>\n",
       "      <td>9988021</td>\n",
       "      <td>580560515_7732621733</td>\n",
       "      <td>781255054_21935453173_531117</td>\n",
       "      <td>step_3</td>\n",
       "      <td>2017-04-17 15:18:04</td>\n",
       "    </tr>\n",
       "    <tr>\n",
       "      <th>...</th>\n",
       "      <td>...</td>\n",
       "      <td>...</td>\n",
       "      <td>...</td>\n",
       "      <td>...</td>\n",
       "      <td>...</td>\n",
       "    </tr>\n",
       "    <tr>\n",
       "      <th>412259</th>\n",
       "      <td>9668240</td>\n",
       "      <td>388766751_9038881013</td>\n",
       "      <td>922267647_3096648104_968866</td>\n",
       "      <td>start</td>\n",
       "      <td>2017-05-24 18:46:10</td>\n",
       "    </tr>\n",
       "    <tr>\n",
       "      <th>412260</th>\n",
       "      <td>9668240</td>\n",
       "      <td>388766751_9038881013</td>\n",
       "      <td>922267647_3096648104_968866</td>\n",
       "      <td>start</td>\n",
       "      <td>2017-05-24 18:45:29</td>\n",
       "    </tr>\n",
       "    <tr>\n",
       "      <th>412261</th>\n",
       "      <td>9668240</td>\n",
       "      <td>388766751_9038881013</td>\n",
       "      <td>922267647_3096648104_968866</td>\n",
       "      <td>step_1</td>\n",
       "      <td>2017-05-24 18:44:51</td>\n",
       "    </tr>\n",
       "    <tr>\n",
       "      <th>412262</th>\n",
       "      <td>9668240</td>\n",
       "      <td>388766751_9038881013</td>\n",
       "      <td>922267647_3096648104_968866</td>\n",
       "      <td>start</td>\n",
       "      <td>2017-05-24 18:44:34</td>\n",
       "    </tr>\n",
       "    <tr>\n",
       "      <th>412263</th>\n",
       "      <td>674799</td>\n",
       "      <td>947159805_81558194550</td>\n",
       "      <td>86152093_47511127657_716022</td>\n",
       "      <td>start</td>\n",
       "      <td>2017-06-03 12:17:09</td>\n",
       "    </tr>\n",
       "  </tbody>\n",
       "</table>\n",
       "<p>755405 rows × 5 columns</p>\n",
       "</div>"
      ],
      "text/plain": [
       "        client_id             visitor_id                      visit_id  \\\n",
       "0         9988021   580560515_7732621733  781255054_21935453173_531117   \n",
       "1         9988021   580560515_7732621733  781255054_21935453173_531117   \n",
       "2         9988021   580560515_7732621733  781255054_21935453173_531117   \n",
       "3         9988021   580560515_7732621733  781255054_21935453173_531117   \n",
       "4         9988021   580560515_7732621733  781255054_21935453173_531117   \n",
       "...           ...                    ...                           ...   \n",
       "412259    9668240   388766751_9038881013   922267647_3096648104_968866   \n",
       "412260    9668240   388766751_9038881013   922267647_3096648104_968866   \n",
       "412261    9668240   388766751_9038881013   922267647_3096648104_968866   \n",
       "412262    9668240   388766751_9038881013   922267647_3096648104_968866   \n",
       "412263     674799  947159805_81558194550   86152093_47511127657_716022   \n",
       "\n",
       "       process_step            date_time  \n",
       "0            step_3  2017-04-17 15:27:07  \n",
       "1            step_2  2017-04-17 15:26:51  \n",
       "2            step_3  2017-04-17 15:19:22  \n",
       "3            step_2  2017-04-17 15:19:13  \n",
       "4            step_3  2017-04-17 15:18:04  \n",
       "...             ...                  ...  \n",
       "412259        start  2017-05-24 18:46:10  \n",
       "412260        start  2017-05-24 18:45:29  \n",
       "412261       step_1  2017-05-24 18:44:51  \n",
       "412262        start  2017-05-24 18:44:34  \n",
       "412263        start  2017-06-03 12:17:09  \n",
       "\n",
       "[755405 rows x 5 columns]"
      ]
     },
     "metadata": {},
     "output_type": "display_data"
    },
    {
     "data": {
      "text/plain": [
       "(755405, 5)"
      ]
     },
     "execution_count": 17,
     "metadata": {},
     "output_type": "execute_result"
    }
   ],
   "source": [
    "#concat df2 and df3\n",
    "#pd.concat([df2_client_id, df3_client_id], axis=1)\n",
    "new_df2_df3 = pd.concat([df2, df3], axis=0)\n",
    "display(new_df2_df3)\n",
    "new_df2_df3.shape\n"
   ]
  },
  {
   "cell_type": "code",
   "execution_count": 18,
   "id": "e160cb92-8f0b-4485-87df-5bfd790a51e0",
   "metadata": {},
   "outputs": [],
   "source": [
    "#4th Table"
   ]
  },
  {
   "cell_type": "code",
   "execution_count": 19,
   "id": "24d84d5d-f757-4aca-ab58-c0e2968ee1d1",
   "metadata": {},
   "outputs": [
    {
     "data": {
      "text/plain": [
       "(70609, 2)"
      ]
     },
     "execution_count": 19,
     "metadata": {},
     "output_type": "execute_result"
    }
   ],
   "source": [
    "import pandas as pd\n",
    "df4 = pd.read_csv(\"../data/raw/df_final_experiment_clients.txt\")\n",
    "df4.shape"
   ]
  },
  {
   "cell_type": "code",
   "execution_count": 20,
   "id": "a4b2a4e0-27bb-42a5-b666-a9b2ea831929",
   "metadata": {},
   "outputs": [
    {
     "data": {
      "text/html": [
       "<div>\n",
       "<style scoped>\n",
       "    .dataframe tbody tr th:only-of-type {\n",
       "        vertical-align: middle;\n",
       "    }\n",
       "\n",
       "    .dataframe tbody tr th {\n",
       "        vertical-align: top;\n",
       "    }\n",
       "\n",
       "    .dataframe thead th {\n",
       "        text-align: right;\n",
       "    }\n",
       "</style>\n",
       "<table border=\"1\" class=\"dataframe\">\n",
       "  <thead>\n",
       "    <tr style=\"text-align: right;\">\n",
       "      <th></th>\n",
       "      <th>client_id</th>\n",
       "      <th>Variation</th>\n",
       "    </tr>\n",
       "  </thead>\n",
       "  <tbody>\n",
       "    <tr>\n",
       "      <th>0</th>\n",
       "      <td>9988021</td>\n",
       "      <td>Test</td>\n",
       "    </tr>\n",
       "    <tr>\n",
       "      <th>1</th>\n",
       "      <td>8320017</td>\n",
       "      <td>Test</td>\n",
       "    </tr>\n",
       "    <tr>\n",
       "      <th>2</th>\n",
       "      <td>4033851</td>\n",
       "      <td>Control</td>\n",
       "    </tr>\n",
       "    <tr>\n",
       "      <th>3</th>\n",
       "      <td>1982004</td>\n",
       "      <td>Test</td>\n",
       "    </tr>\n",
       "    <tr>\n",
       "      <th>4</th>\n",
       "      <td>9294070</td>\n",
       "      <td>Control</td>\n",
       "    </tr>\n",
       "  </tbody>\n",
       "</table>\n",
       "</div>"
      ],
      "text/plain": [
       "   client_id Variation\n",
       "0    9988021      Test\n",
       "1    8320017      Test\n",
       "2    4033851   Control\n",
       "3    1982004      Test\n",
       "4    9294070   Control"
      ]
     },
     "execution_count": 20,
     "metadata": {},
     "output_type": "execute_result"
    }
   ],
   "source": [
    "df4.head()"
   ]
  },
  {
   "cell_type": "code",
   "execution_count": 21,
   "id": "ce406bcd-af8a-4c0b-9e71-fe3c388000b5",
   "metadata": {},
   "outputs": [
    {
     "data": {
      "text/html": [
       "<div>\n",
       "<style scoped>\n",
       "    .dataframe tbody tr th:only-of-type {\n",
       "        vertical-align: middle;\n",
       "    }\n",
       "\n",
       "    .dataframe tbody tr th {\n",
       "        vertical-align: top;\n",
       "    }\n",
       "\n",
       "    .dataframe thead th {\n",
       "        text-align: right;\n",
       "    }\n",
       "</style>\n",
       "<table border=\"1\" class=\"dataframe\">\n",
       "  <thead>\n",
       "    <tr style=\"text-align: right;\">\n",
       "      <th></th>\n",
       "      <th>client_id</th>\n",
       "      <th>visitor_id</th>\n",
       "      <th>visit_id</th>\n",
       "      <th>process_step</th>\n",
       "      <th>date_time</th>\n",
       "      <th>Variation</th>\n",
       "    </tr>\n",
       "  </thead>\n",
       "  <tbody>\n",
       "    <tr>\n",
       "      <th>0</th>\n",
       "      <td>9988021</td>\n",
       "      <td>580560515_7732621733</td>\n",
       "      <td>781255054_21935453173_531117</td>\n",
       "      <td>step_3</td>\n",
       "      <td>2017-04-17 15:27:07</td>\n",
       "      <td>Test</td>\n",
       "    </tr>\n",
       "    <tr>\n",
       "      <th>1</th>\n",
       "      <td>9988021</td>\n",
       "      <td>580560515_7732621733</td>\n",
       "      <td>781255054_21935453173_531117</td>\n",
       "      <td>step_2</td>\n",
       "      <td>2017-04-17 15:26:51</td>\n",
       "      <td>Test</td>\n",
       "    </tr>\n",
       "    <tr>\n",
       "      <th>2</th>\n",
       "      <td>9988021</td>\n",
       "      <td>580560515_7732621733</td>\n",
       "      <td>781255054_21935453173_531117</td>\n",
       "      <td>step_3</td>\n",
       "      <td>2017-04-17 15:19:22</td>\n",
       "      <td>Test</td>\n",
       "    </tr>\n",
       "    <tr>\n",
       "      <th>3</th>\n",
       "      <td>9988021</td>\n",
       "      <td>580560515_7732621733</td>\n",
       "      <td>781255054_21935453173_531117</td>\n",
       "      <td>step_2</td>\n",
       "      <td>2017-04-17 15:19:13</td>\n",
       "      <td>Test</td>\n",
       "    </tr>\n",
       "    <tr>\n",
       "      <th>4</th>\n",
       "      <td>9988021</td>\n",
       "      <td>580560515_7732621733</td>\n",
       "      <td>781255054_21935453173_531117</td>\n",
       "      <td>step_3</td>\n",
       "      <td>2017-04-17 15:18:04</td>\n",
       "      <td>Test</td>\n",
       "    </tr>\n",
       "  </tbody>\n",
       "</table>\n",
       "</div>"
      ],
      "text/plain": [
       "   client_id            visitor_id                      visit_id process_step  \\\n",
       "0    9988021  580560515_7732621733  781255054_21935453173_531117       step_3   \n",
       "1    9988021  580560515_7732621733  781255054_21935453173_531117       step_2   \n",
       "2    9988021  580560515_7732621733  781255054_21935453173_531117       step_3   \n",
       "3    9988021  580560515_7732621733  781255054_21935453173_531117       step_2   \n",
       "4    9988021  580560515_7732621733  781255054_21935453173_531117       step_3   \n",
       "\n",
       "             date_time Variation  \n",
       "0  2017-04-17 15:27:07      Test  \n",
       "1  2017-04-17 15:26:51      Test  \n",
       "2  2017-04-17 15:19:22      Test  \n",
       "3  2017-04-17 15:19:13      Test  \n",
       "4  2017-04-17 15:18:04      Test  "
      ]
     },
     "execution_count": 21,
     "metadata": {},
     "output_type": "execute_result"
    }
   ],
   "source": [
    "df_2_3_4=new_df2_df3.merge(df4, on='client_id', how='left')\n",
    "df_2_3_4.head()"
   ]
  },
  {
   "cell_type": "code",
   "execution_count": 22,
   "id": "a21b8e14-caf2-462f-8970-b553dc380ffb",
   "metadata": {},
   "outputs": [
    {
     "data": {
      "text/plain": [
       "(755405, 14)"
      ]
     },
     "execution_count": 22,
     "metadata": {},
     "output_type": "execute_result"
    }
   ],
   "source": [
    "df_final= pd.merge(df_2_3_4, df1, on='client_id', how='left')\n",
    "df_final.shape"
   ]
  },
  {
   "cell_type": "code",
   "execution_count": 23,
   "id": "d77c805a-f6b4-4d36-846e-84ad1455b58f",
   "metadata": {},
   "outputs": [
    {
     "data": {
      "text/plain": [
       "(755405, 14)"
      ]
     },
     "execution_count": 23,
     "metadata": {},
     "output_type": "execute_result"
    }
   ],
   "source": [
    "df_final.shape"
   ]
  },
  {
   "cell_type": "code",
   "execution_count": 24,
   "id": "e8ea0a41-b38f-4352-a5b9-eda053bdc429",
   "metadata": {},
   "outputs": [
    {
     "data": {
      "text/plain": [
       "client_id                0\n",
       "visitor_id               0\n",
       "visit_id                 0\n",
       "process_step             0\n",
       "date_time                0\n",
       "Variation           434096\n",
       "clnt_tenure_yr      305689\n",
       "clnt_tenure_mnth    305689\n",
       "clnt_age            305701\n",
       "gendr               305689\n",
       "num_accts           305689\n",
       "bal                 305689\n",
       "calls_6_mnth        305689\n",
       "logons_6_mnth       305689\n",
       "dtype: int64"
      ]
     },
     "execution_count": 24,
     "metadata": {},
     "output_type": "execute_result"
    }
   ],
   "source": [
    "df_final.isna().sum()"
   ]
  },
  {
   "cell_type": "code",
   "execution_count": 25,
   "id": "8d83ad05-23e2-4b64-991c-7de6f62e324a",
   "metadata": {},
   "outputs": [
    {
     "data": {
      "text/plain": [
       "np.int64(434096)"
      ]
     },
     "execution_count": 25,
     "metadata": {},
     "output_type": "execute_result"
    }
   ],
   "source": [
    "df_final['Variation'].isna().sum()"
   ]
  },
  {
   "cell_type": "code",
   "execution_count": 26,
   "id": "99bda471-d593-4edb-bb02-385ae1bb42e6",
   "metadata": {},
   "outputs": [],
   "source": [
    "df_final.dropna(inplace=True)"
   ]
  },
  {
   "cell_type": "code",
   "execution_count": 27,
   "id": "61e84a62-76c8-4126-9dcf-7d5ebd7cbef9",
   "metadata": {},
   "outputs": [
    {
     "data": {
      "text/plain": [
       "Variation\n",
       "Test       177787\n",
       "Control    143408\n",
       "Name: count, dtype: int64"
      ]
     },
     "execution_count": 27,
     "metadata": {},
     "output_type": "execute_result"
    }
   ],
   "source": [
    "df_final['Variation'].value_counts()"
   ]
  },
  {
   "cell_type": "code",
   "execution_count": 28,
   "id": "72ed2df8-bbb1-4638-ab02-18fb70a905b3",
   "metadata": {},
   "outputs": [
    {
     "data": {
      "text/plain": [
       "(321195, 14)"
      ]
     },
     "execution_count": 28,
     "metadata": {},
     "output_type": "execute_result"
    }
   ],
   "source": [
    "df_final.shape"
   ]
  },
  {
   "cell_type": "code",
   "execution_count": 29,
   "id": "6f67c383-5f04-4901-baba-17d0898b43bf",
   "metadata": {},
   "outputs": [
    {
     "data": {
      "text/plain": [
       "np.int64(0)"
      ]
     },
     "execution_count": 29,
     "metadata": {},
     "output_type": "execute_result"
    }
   ],
   "source": [
    "df_final['Variation'].isna().sum()"
   ]
  },
  {
   "cell_type": "code",
   "execution_count": 30,
   "id": "3e128c87-4911-4dff-920a-5ade0e8ae9c0",
   "metadata": {},
   "outputs": [],
   "source": [
    "step_order = {'start': 0, 'step_1': 1, 'step_2': 2, 'step_3': 3, 'confirm': 4}\n",
    "df_final['step_num'] = df_final['process_step'].map(step_order)\n"
   ]
  },
  {
   "cell_type": "code",
   "execution_count": 31,
   "id": "a65d0d97-01c7-4e80-b340-9c8c30ea1773",
   "metadata": {},
   "outputs": [],
   "source": [
    "import pandas as pd\n",
    "\n",
    "df_final['date_time'] = pd.to_datetime(df_final['date_time'])\n",
    "df_final = df_final.sort_values(['client_id', 'date_time'])\n",
    "\n",
    "# Calculate time spent per step in seconds\n",
    "df_final['next_time'] = df_final.groupby('client_id')['date_time'].shift(-1)\n",
    "df_final['time_spent'] = (df_final['next_time'] - df_final['date_time']).dt.total_seconds()\n"
   ]
  },
  {
   "cell_type": "code",
   "execution_count": 32,
   "id": "9c9914b9-e2ab-4c68-a740-39acc54b2ddd",
   "metadata": {},
   "outputs": [],
   "source": [
    "df_final['prev_step_num'] = df_final.groupby('client_id')['step_num'].shift(1)\n",
    "df_final['is_error'] = (df_final['step_num'] < df_final['prev_step_num']).astype(int)\n"
   ]
  },
  {
   "cell_type": "code",
   "execution_count": 33,
   "id": "dadd05c1-0a2e-4156-898a-c8255a986230",
   "metadata": {},
   "outputs": [
    {
     "name": "stdout",
     "output_type": "stream",
     "text": [
      "=== Completion Rate by Variation ===\n",
      "  Variation  completion_rate\n",
      "0   Control         0.655785\n",
      "1      Test         0.692927\n"
     ]
    }
   ],
   "source": [
    "# Filter only one record per client\n",
    "latest_step = df_final.sort_values('step_num', ascending=False).drop_duplicates('client_id')\n",
    "\n",
    "# Completion rate by Variation\n",
    "completion_rate = latest_step.groupby('Variation')['process_step'].apply(lambda x: (x == 'confirm').mean()).reset_index(name='completion_rate')\n",
    "print(\"=== Completion Rate by Variation ===\")\n",
    "print(completion_rate)"
   ]
  },
  {
   "cell_type": "code",
   "execution_count": 34,
   "id": "281b6ac1-16b2-4120-b55e-2b746325a06b",
   "metadata": {},
   "outputs": [
    {
     "name": "stdout",
     "output_type": "stream",
     "text": [
      "\n",
      "=== Avg Time Spent on Each Step (seconds) ===\n",
      "  Variation process_step     time_spent\n",
      "0   Control      confirm  374947.789680\n",
      "1   Control        start  123974.429795\n",
      "2   Control       step_1   40383.356918\n",
      "3   Control       step_2   37151.490651\n",
      "4   Control       step_3   57787.930926\n",
      "5      Test      confirm  317646.694574\n",
      "6      Test        start   50468.030446\n",
      "7      Test       step_1   37702.463625\n",
      "8      Test       step_2   20628.744563\n",
      "9      Test       step_3   27904.589029\n"
     ]
    }
   ],
   "source": [
    "# Get only the first process for each client (sorted by date_time)\n",
    "df_final['date_time'] = pd.to_datetime(df_final['date_time'])\n",
    "first_visits = df_final.sort_values('date_time').drop_duplicates(['client_id', 'process_step'])\n",
    "\n",
    "# Time spent per step, per Variation\n",
    "avg_time_per_step = first_visits.groupby(['Variation', 'process_step'])['time_spent'].mean().reset_index()\n",
    "print(\"\\n=== Avg Time Spent on Each Step (seconds) ===\")\n",
    "print(avg_time_per_step)\n"
   ]
  },
  {
   "cell_type": "code",
   "execution_count": 35,
   "id": "14092dc8-5315-4392-826e-0837165f3580",
   "metadata": {},
   "outputs": [
    {
     "name": "stdout",
     "output_type": "stream",
     "text": [
      "\n",
      "=== Error Rate by Variation ===\n",
      "  Variation  error_rate\n",
      "0   Control    0.344045\n",
      "1      Test    0.378102\n"
     ]
    }
   ],
   "source": [
    "# One error per client max\n",
    "error_by_client = df_final.groupby('client_id')['is_error'].max().reset_index()\n",
    "error_by_client = error_by_client.merge(df_final[['client_id', 'Variation']].drop_duplicates(), on='client_id')\n",
    "\n",
    "# Error rate per Variation\n",
    "error_rate = error_by_client.groupby('Variation')['is_error'].mean().reset_index(name='error_rate')\n",
    "print(\"\\n=== Error Rate by Variation ===\")\n",
    "print(error_rate)"
   ]
  },
  {
   "cell_type": "code",
   "execution_count": 36,
   "id": "99ddf213-60d0-48cb-a3fa-b1dc08716d91",
   "metadata": {},
   "outputs": [],
   "source": [
    "# Create 'Completed' binary column\n",
    "df_final['Completed'] = (df_final['step_num'] == 4).astype(int)"
   ]
  },
  {
   "cell_type": "code",
   "execution_count": 41,
   "id": "b10fc84d-966a-4313-ab1c-079091d7d86d",
   "metadata": {},
   "outputs": [
    {
     "ename": "ModuleNotFoundError",
     "evalue": "No module named 'statsmodels'",
     "output_type": "error",
     "traceback": [
      "\u001b[1;31m---------------------------------------------------------------------------\u001b[0m",
      "\u001b[1;31mModuleNotFoundError\u001b[0m                       Traceback (most recent call last)",
      "Cell \u001b[1;32mIn[41], line 2\u001b[0m\n\u001b[0;32m      1\u001b[0m \u001b[38;5;28;01mimport\u001b[39;00m \u001b[38;5;21;01mpandas\u001b[39;00m \u001b[38;5;28;01mas\u001b[39;00m \u001b[38;5;21;01mpd\u001b[39;00m\n\u001b[1;32m----> 2\u001b[0m \u001b[38;5;28;01mfrom\u001b[39;00m \u001b[38;5;21;01mstatsmodels\u001b[39;00m\u001b[38;5;21;01m.\u001b[39;00m\u001b[38;5;21;01mstats\u001b[39;00m\u001b[38;5;21;01m.\u001b[39;00m\u001b[38;5;21;01mproportion\u001b[39;00m \u001b[38;5;28;01mimport\u001b[39;00m proportions_ztest\n\u001b[0;32m      4\u001b[0m \u001b[38;5;66;03m# Get counts for Control group\u001b[39;00m\n\u001b[0;32m      5\u001b[0m control_data \u001b[38;5;241m=\u001b[39m df_final[df_final[\u001b[38;5;124m\"\u001b[39m\u001b[38;5;124mVariation\u001b[39m\u001b[38;5;124m\"\u001b[39m] \u001b[38;5;241m==\u001b[39m \u001b[38;5;124m\"\u001b[39m\u001b[38;5;124mControl\u001b[39m\u001b[38;5;124m\"\u001b[39m]\n",
      "\u001b[1;31mModuleNotFoundError\u001b[0m: No module named 'statsmodels'"
     ]
    }
   ],
   "source": [
    "import pandas as pd\n",
    "from statsmodels.stats.proportion import proportions_ztest\n",
    "\n",
    "# Get counts for Control group\n",
    "control_data = df_final[df_final[\"Variation\"] == \"Control\"]\n",
    "control_completions = control_data[\"Completed\"].sum()\n",
    "control_total = control_data.shape[0]\n",
    "\n",
    "# Get counts for Test group\n",
    "test_data = df_final[df_final[\"Variation\"] == \"Test\"]\n",
    "test_completions = test_data[\"Completed\"].sum()\n",
    "test_total = test_data.shape[0]\n",
    "\n",
    "# Data for z-test\n",
    "successes = [control_completions, test_completions]\n",
    "nobs = [control_total, test_total]\n",
    "\n",
    "# Perform one-tailed z-test (alternative='larger' means we test if p2 > p1)\n",
    "stat, pval = proportions_ztest(count=successes, nobs=nobs, alternative='smaller')\n",
    "\n",
    "# Significance level\n",
    "alpha = 0.05\n",
    "\n",
    "# Print the result\n",
    "print(f\"Z-statistic: {stat:.4f}\")\n",
    "print(f\"P-value: {pval:.4f}\")\n",
    "if pval < alpha:\n",
    "    print(\"Reject the null hypothesis: The new version significantly improves completion rate.\")\n",
    "else:\n",
    "    print(\"Fail to reject the null hypothesis: No significant difference in completion rates.\")\n"
   ]
  },
  {
   "cell_type": "code",
   "execution_count": 38,
   "id": "fe22912c-5813-4556-8b6d-01b317cdc034",
   "metadata": {},
   "outputs": [
    {
     "ename": "NameError",
     "evalue": "name 'control_completions' is not defined",
     "output_type": "error",
     "traceback": [
      "\u001b[1;31m---------------------------------------------------------------------------\u001b[0m",
      "\u001b[1;31mNameError\u001b[0m                                 Traceback (most recent call last)",
      "Cell \u001b[1;32mIn[38], line 10\u001b[0m\n\u001b[0;32m      7\u001b[0m \u001b[38;5;28;01mdef\u001b[39;00m \u001b[38;5;21mcheck_sample_size\u001b[39m(n, p):\n\u001b[0;32m      8\u001b[0m     \u001b[38;5;28;01mreturn\u001b[39;00m n \u001b[38;5;241m*\u001b[39m p \u001b[38;5;241m>\u001b[39m\u001b[38;5;241m=\u001b[39m \u001b[38;5;241m5\u001b[39m \u001b[38;5;129;01mand\u001b[39;00m n \u001b[38;5;241m*\u001b[39m (\u001b[38;5;241m1\u001b[39m \u001b[38;5;241m-\u001b[39m p) \u001b[38;5;241m>\u001b[39m\u001b[38;5;241m=\u001b[39m \u001b[38;5;241m5\u001b[39m\n\u001b[1;32m---> 10\u001b[0m control_p \u001b[38;5;241m=\u001b[39m \u001b[43mcontrol_completions\u001b[49m \u001b[38;5;241m/\u001b[39m control_total\n\u001b[0;32m     11\u001b[0m test_p \u001b[38;5;241m=\u001b[39m test_completions \u001b[38;5;241m/\u001b[39m test_total\n\u001b[0;32m     13\u001b[0m \u001b[38;5;28mprint\u001b[39m(\u001b[38;5;124m\"\u001b[39m\u001b[38;5;124mControl group meets assumptions:\u001b[39m\u001b[38;5;124m\"\u001b[39m, check_sample_size(control_total, control_p))\n",
      "\u001b[1;31mNameError\u001b[0m: name 'control_completions' is not defined"
     ]
    }
   ],
   "source": [
    "#Step 3: Assumptions Check\n",
    "# The z-test assumes:\n",
    "# -Independent observations between Test and Control groups \n",
    "# -Binary outcome (completed or not) \n",
    "# -Sufficiently large sample size (typically, np > 5 and n(1-p) > 5 for both groups) \n",
    "\n",
    "def check_sample_size(n, p):\n",
    "    return n * p >= 5 and n * (1 - p) >= 5\n",
    "\n",
    "control_p = control_completions / control_total\n",
    "test_p = test_completions / test_total\n",
    "\n",
    "print(\"Control group meets assumptions:\", check_sample_size(control_total, control_p))\n",
    "print(\"Test group meets assumptions:\", check_sample_size(test_total, test_p))"
   ]
  },
  {
   "cell_type": "code",
   "execution_count": 39,
   "id": "64b47f3e-0512-4e1c-838a-8e416d0211cd",
   "metadata": {},
   "outputs": [],
   "source": [
    "df_final.to_csv('df_final. csv', index=False)"
   ]
  },
  {
   "cell_type": "code",
   "execution_count": 42,
   "id": "3eceffe0-215e-429f-a22f-0d7962c643dd",
   "metadata": {},
   "outputs": [
    {
     "data": {
      "text/html": [
       "<div>\n",
       "<style scoped>\n",
       "    .dataframe tbody tr th:only-of-type {\n",
       "        vertical-align: middle;\n",
       "    }\n",
       "\n",
       "    .dataframe tbody tr th {\n",
       "        vertical-align: top;\n",
       "    }\n",
       "\n",
       "    .dataframe thead th {\n",
       "        text-align: right;\n",
       "    }\n",
       "</style>\n",
       "<table border=\"1\" class=\"dataframe\">\n",
       "  <thead>\n",
       "    <tr style=\"text-align: right;\">\n",
       "      <th></th>\n",
       "      <th>Metric</th>\n",
       "      <th>Control</th>\n",
       "      <th>Test</th>\n",
       "      <th>Δ (Test - Control)</th>\n",
       "    </tr>\n",
       "  </thead>\n",
       "  <tbody>\n",
       "    <tr>\n",
       "      <th>0</th>\n",
       "      <td>Completion Rate (%)</td>\n",
       "      <td>65.57</td>\n",
       "      <td>69.29</td>\n",
       "      <td>3.58</td>\n",
       "    </tr>\n",
       "    <tr>\n",
       "      <th>1</th>\n",
       "      <td>Error Rate (%)</td>\n",
       "      <td>34.42</td>\n",
       "      <td>37.82</td>\n",
       "      <td>3.40</td>\n",
       "    </tr>\n",
       "    <tr>\n",
       "      <th>2</th>\n",
       "      <td>Start (sec)</td>\n",
       "      <td>62.92</td>\n",
       "      <td>60.57</td>\n",
       "      <td>-2.35</td>\n",
       "    </tr>\n",
       "    <tr>\n",
       "      <th>3</th>\n",
       "      <td>Step 1 (sec)</td>\n",
       "      <td>50.24</td>\n",
       "      <td>60.50</td>\n",
       "      <td>10.26</td>\n",
       "    </tr>\n",
       "    <tr>\n",
       "      <th>4</th>\n",
       "      <td>Step 2 (sec)</td>\n",
       "      <td>91.59</td>\n",
       "      <td>88.59</td>\n",
       "      <td>-3.00</td>\n",
       "    </tr>\n",
       "    <tr>\n",
       "      <th>5</th>\n",
       "      <td>Step 3 (sec)</td>\n",
       "      <td>135.36</td>\n",
       "      <td>128.97</td>\n",
       "      <td>-6.39</td>\n",
       "    </tr>\n",
       "    <tr>\n",
       "      <th>6</th>\n",
       "      <td>Confirm (sec)</td>\n",
       "      <td>153.03</td>\n",
       "      <td>236.24</td>\n",
       "      <td>83.21</td>\n",
       "    </tr>\n",
       "  </tbody>\n",
       "</table>\n",
       "</div>"
      ],
      "text/plain": [
       "                Metric  Control    Test  Δ (Test - Control)\n",
       "0  Completion Rate (%)    65.57   69.29                3.58\n",
       "1       Error Rate (%)    34.42   37.82                3.40\n",
       "2          Start (sec)    62.92   60.57               -2.35\n",
       "3         Step 1 (sec)    50.24   60.50               10.26\n",
       "4         Step 2 (sec)    91.59   88.59               -3.00\n",
       "5         Step 3 (sec)   135.36  128.97               -6.39\n",
       "6        Confirm (sec)   153.03  236.24               83.21"
      ]
     },
     "metadata": {},
     "output_type": "display_data"
    }
   ],
   "source": [
    "# Define the KPI data\n",
    "kpi_data = {\n",
    "    'Metric': [\n",
    "        'Completion Rate (%)',\n",
    "        'Error Rate (%)',\n",
    "        'Start (sec)',\n",
    "        'Step 1 (sec)',\n",
    "        'Step 2 (sec)',\n",
    "        'Step 3 (sec)',\n",
    "        'Confirm (sec)'\n",
    "    ],\n",
    "    'Control': [\n",
    "        65.57,\n",
    "        34.42,\n",
    "        62.92,\n",
    "        50.24,\n",
    "        91.59,\n",
    "        135.36,\n",
    "        153.03\n",
    "    ],\n",
    "    'Test': [\n",
    "        69.29,\n",
    "        37.82,\n",
    "        60.57,\n",
    "        60.50,\n",
    "        88.59,\n",
    "        128.97,\n",
    "        236.24\n",
    "    ],\n",
    "    'Δ (Test - Control)': [\n",
    "        16.70 - 13.12,\n",
    "        37.82 - 34.42,\n",
    "        60.57 - 62.92,\n",
    "        60.50 - 50.24,\n",
    "        88.59 - 91.59,\n",
    "        128.97 - 135.36,\n",
    "        236.24 - 153.03\n",
    "    ]\n",
    "}\n",
    "# Create DataFrame\n",
    "kpi_summary_df = pd.DataFrame(kpi_data)\n",
    "# Display it\n",
    "display(kpi_summary_df)"
   ]
  },
  {
   "cell_type": "code",
   "execution_count": 42,
   "id": "cf020e62-57d5-48a9-9e77-968f1f55ee0b",
   "metadata": {},
   "outputs": [
    {
     "data": {
      "text/html": [
       "<div>\n",
       "<style scoped>\n",
       "    .dataframe tbody tr th:only-of-type {\n",
       "        vertical-align: middle;\n",
       "    }\n",
       "\n",
       "    .dataframe tbody tr th {\n",
       "        vertical-align: top;\n",
       "    }\n",
       "\n",
       "    .dataframe thead th {\n",
       "        text-align: right;\n",
       "    }\n",
       "</style>\n",
       "<table border=\"1\" class=\"dataframe\">\n",
       "  <thead>\n",
       "    <tr style=\"text-align: right;\">\n",
       "      <th></th>\n",
       "      <th>Metric</th>\n",
       "      <th>Control</th>\n",
       "      <th>Test</th>\n",
       "      <th>Δ (Test - Control)</th>\n",
       "    </tr>\n",
       "  </thead>\n",
       "  <tbody>\n",
       "    <tr>\n",
       "      <th>0</th>\n",
       "      <td>Completion Rate (%)</td>\n",
       "      <td>65.57</td>\n",
       "      <td>69.29</td>\n",
       "      <td>3.58</td>\n",
       "    </tr>\n",
       "    <tr>\n",
       "      <th>1</th>\n",
       "      <td>Error Rate (%)</td>\n",
       "      <td>34.42</td>\n",
       "      <td>37.82</td>\n",
       "      <td>3.40</td>\n",
       "    </tr>\n",
       "    <tr>\n",
       "      <th>2</th>\n",
       "      <td>Start (sec)</td>\n",
       "      <td>62.92</td>\n",
       "      <td>60.57</td>\n",
       "      <td>-2.35</td>\n",
       "    </tr>\n",
       "    <tr>\n",
       "      <th>3</th>\n",
       "      <td>Step 1 (sec)</td>\n",
       "      <td>50.24</td>\n",
       "      <td>60.50</td>\n",
       "      <td>10.26</td>\n",
       "    </tr>\n",
       "    <tr>\n",
       "      <th>4</th>\n",
       "      <td>Step 2 (sec)</td>\n",
       "      <td>91.59</td>\n",
       "      <td>88.59</td>\n",
       "      <td>-3.00</td>\n",
       "    </tr>\n",
       "    <tr>\n",
       "      <th>5</th>\n",
       "      <td>Step 3 (sec)</td>\n",
       "      <td>135.36</td>\n",
       "      <td>128.97</td>\n",
       "      <td>-6.39</td>\n",
       "    </tr>\n",
       "    <tr>\n",
       "      <th>6</th>\n",
       "      <td>Confirm (sec)</td>\n",
       "      <td>153.03</td>\n",
       "      <td>236.24</td>\n",
       "      <td>83.21</td>\n",
       "    </tr>\n",
       "  </tbody>\n",
       "</table>\n",
       "</div>"
      ],
      "text/plain": [
       "                Metric  Control    Test  Δ (Test - Control)\n",
       "0  Completion Rate (%)    65.57   69.29                3.58\n",
       "1       Error Rate (%)    34.42   37.82                3.40\n",
       "2          Start (sec)    62.92   60.57               -2.35\n",
       "3         Step 1 (sec)    50.24   60.50               10.26\n",
       "4         Step 2 (sec)    91.59   88.59               -3.00\n",
       "5         Step 3 (sec)   135.36  128.97               -6.39\n",
       "6        Confirm (sec)   153.03  236.24               83.21"
      ]
     },
     "metadata": {},
     "output_type": "display_data"
    }
   ],
   "source": [
    "# Define the KPI data\n",
    "kpi_data = {\n",
    "    'Group': [\n",
    "        'Control',\n",
    "        'Test',\n",
    "        'Δ (Test - Control)',\n",
    "    \n",
    "    'Completion Rate (%)': [\n",
    "        65.57,\n",
    "        69.29,\n",
    "        16.70 - 13.12\n",
    "    ],\n",
    "    'Error Rate (%)': [\n",
    "        34.42,\n",
    "        37.82,\n",
    "        37.82 - 34.42\n",
    "    ],\n",
    "    'Time Spent': [\n",
    "        'Start (sec)',\n",
    "        'Step 1 (sec)',\n",
    "        'Step 2 (sec)',\n",
    "        'Step 3 (sec)',\n",
    "        'Confirm (sec)'\n",
    "    ],\n",
    "    'Control': [\n",
    "\n",
    "        \n",
    "        62.92,\n",
    "        50.24,\n",
    "        91.59,\n",
    "        135.36,\n",
    "        153.03\n",
    "    ],\n",
    "    'Test': [\n",
    "       \n",
    "        \n",
    "        60.57,\n",
    "        60.50,\n",
    "        88.59,\n",
    "        128.97,\n",
    "        236.24\n",
    "    ],\n",
    "    'Δ (Test - Control)': [\n",
    "        \n",
    "        \n",
    "        60.57 - 62.92,\n",
    "        60.50 - 50.24,\n",
    "        88.59 - 91.59,\n",
    "        128.97 - 135.36,\n",
    "        236.24 - 153.03\n",
    "    ]\n",
    "}\n",
    "# Create DataFrame\n",
    "kpi_summary_df = pd.DataFrame(kpi_data)\n",
    "# Display it\n",
    "display(kpi_summary_df)"
   ]
  },
  {
   "cell_type": "code",
   "execution_count": null,
   "id": "ed4b551c-5a15-4fc9-aacc-34e21c5347a1",
   "metadata": {},
   "outputs": [],
   "source": []
  }
 ],
 "metadata": {
  "kernelspec": {
   "display_name": "venv",
   "language": "python",
   "name": "venv"
  },
  "language_info": {
   "codemirror_mode": {
    "name": "ipython",
    "version": 3
   },
   "file_extension": ".py",
   "mimetype": "text/x-python",
   "name": "python",
   "nbconvert_exporter": "python",
   "pygments_lexer": "ipython3",
   "version": "3.12.7"
  }
 },
 "nbformat": 4,
 "nbformat_minor": 5
}
