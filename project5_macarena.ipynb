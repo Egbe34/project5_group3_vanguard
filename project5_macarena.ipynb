{
 "cells": [
  {
   "cell_type": "code",
   "execution_count": 3,
   "id": "4959d987",
   "metadata": {},
   "outputs": [],
   "source": [
    "import pandas as pd\n",
    "import matplotlib.pyplot as plt\n",
    "import seaborn as sns\n",
    "import numpy as np"
   ]
  },
  {
   "cell_type": "code",
   "execution_count": 4,
   "id": "5bc527ae",
   "metadata": {},
   "outputs": [
    {
     "data": {
      "text/plain": [
       "(70609, 9)"
      ]
     },
     "execution_count": 4,
     "metadata": {},
     "output_type": "execute_result"
    }
   ],
   "source": [
    "# Loading the housing price dataset (assuming the file name is \"housing_price.csv\")\n",
    "import pandas as pd\n",
    "# 1 TABLE --> df_final_demo\n",
    "df1 = pd.read_csv(\"data/raw/df_final_demo.txt\")\n",
    "df1.shape"
   ]
  },
  {
   "cell_type": "code",
   "execution_count": 5,
   "id": "ebc21f72",
   "metadata": {},
   "outputs": [
    {
     "data": {
      "text/html": [
       "<div>\n",
       "<style scoped>\n",
       "    .dataframe tbody tr th:only-of-type {\n",
       "        vertical-align: middle;\n",
       "    }\n",
       "\n",
       "    .dataframe tbody tr th {\n",
       "        vertical-align: top;\n",
       "    }\n",
       "\n",
       "    .dataframe thead th {\n",
       "        text-align: right;\n",
       "    }\n",
       "</style>\n",
       "<table border=\"1\" class=\"dataframe\">\n",
       "  <thead>\n",
       "    <tr style=\"text-align: right;\">\n",
       "      <th></th>\n",
       "      <th>client_id</th>\n",
       "      <th>clnt_tenure_yr</th>\n",
       "      <th>clnt_tenure_mnth</th>\n",
       "      <th>clnt_age</th>\n",
       "      <th>gendr</th>\n",
       "      <th>num_accts</th>\n",
       "      <th>bal</th>\n",
       "      <th>calls_6_mnth</th>\n",
       "      <th>logons_6_mnth</th>\n",
       "    </tr>\n",
       "  </thead>\n",
       "  <tbody>\n",
       "    <tr>\n",
       "      <th>0</th>\n",
       "      <td>836976</td>\n",
       "      <td>6.0</td>\n",
       "      <td>73.0</td>\n",
       "      <td>60.5</td>\n",
       "      <td>U</td>\n",
       "      <td>2.0</td>\n",
       "      <td>45105.30</td>\n",
       "      <td>6.0</td>\n",
       "      <td>9.0</td>\n",
       "    </tr>\n",
       "    <tr>\n",
       "      <th>1</th>\n",
       "      <td>2304905</td>\n",
       "      <td>7.0</td>\n",
       "      <td>94.0</td>\n",
       "      <td>58.0</td>\n",
       "      <td>U</td>\n",
       "      <td>2.0</td>\n",
       "      <td>110860.30</td>\n",
       "      <td>6.0</td>\n",
       "      <td>9.0</td>\n",
       "    </tr>\n",
       "    <tr>\n",
       "      <th>2</th>\n",
       "      <td>1439522</td>\n",
       "      <td>5.0</td>\n",
       "      <td>64.0</td>\n",
       "      <td>32.0</td>\n",
       "      <td>U</td>\n",
       "      <td>2.0</td>\n",
       "      <td>52467.79</td>\n",
       "      <td>6.0</td>\n",
       "      <td>9.0</td>\n",
       "    </tr>\n",
       "    <tr>\n",
       "      <th>3</th>\n",
       "      <td>1562045</td>\n",
       "      <td>16.0</td>\n",
       "      <td>198.0</td>\n",
       "      <td>49.0</td>\n",
       "      <td>M</td>\n",
       "      <td>2.0</td>\n",
       "      <td>67454.65</td>\n",
       "      <td>3.0</td>\n",
       "      <td>6.0</td>\n",
       "    </tr>\n",
       "    <tr>\n",
       "      <th>4</th>\n",
       "      <td>5126305</td>\n",
       "      <td>12.0</td>\n",
       "      <td>145.0</td>\n",
       "      <td>33.0</td>\n",
       "      <td>F</td>\n",
       "      <td>2.0</td>\n",
       "      <td>103671.75</td>\n",
       "      <td>0.0</td>\n",
       "      <td>3.0</td>\n",
       "    </tr>\n",
       "  </tbody>\n",
       "</table>\n",
       "</div>"
      ],
      "text/plain": [
       "   client_id  clnt_tenure_yr  clnt_tenure_mnth  clnt_age gendr  num_accts  \\\n",
       "0     836976             6.0              73.0      60.5     U        2.0   \n",
       "1    2304905             7.0              94.0      58.0     U        2.0   \n",
       "2    1439522             5.0              64.0      32.0     U        2.0   \n",
       "3    1562045            16.0             198.0      49.0     M        2.0   \n",
       "4    5126305            12.0             145.0      33.0     F        2.0   \n",
       "\n",
       "         bal  calls_6_mnth  logons_6_mnth  \n",
       "0   45105.30           6.0            9.0  \n",
       "1  110860.30           6.0            9.0  \n",
       "2   52467.79           6.0            9.0  \n",
       "3   67454.65           3.0            6.0  \n",
       "4  103671.75           0.0            3.0  "
      ]
     },
     "execution_count": 5,
     "metadata": {},
     "output_type": "execute_result"
    }
   ],
   "source": [
    "#df_final_demo (File 1)\n",
    "df1.head()"
   ]
  },
  {
   "cell_type": "code",
   "execution_count": 6,
   "id": "28bf7ff2",
   "metadata": {},
   "outputs": [
    {
     "data": {
      "text/plain": [
       "client_id           70609\n",
       "clnt_tenure_yr         54\n",
       "clnt_tenure_mnth      482\n",
       "clnt_age              165\n",
       "gendr                   4\n",
       "num_accts               8\n",
       "bal                 70328\n",
       "calls_6_mnth            8\n",
       "logons_6_mnth           9\n",
       "dtype: int64"
      ]
     },
     "execution_count": 6,
     "metadata": {},
     "output_type": "execute_result"
    }
   ],
   "source": [
    "#Data Cleaning for df_final_demo.txt\n",
    "df1.nunique()\n"
   ]
  },
  {
   "cell_type": "code",
   "execution_count": 7,
   "id": "d0b5fe8e",
   "metadata": {},
   "outputs": [
    {
     "data": {
      "text/plain": [
       "gendr\n",
       "     24125\n",
       "M    23724\n",
       "F    22746\n",
       "Name: count, dtype: int64"
      ]
     },
     "execution_count": 7,
     "metadata": {},
     "output_type": "execute_result"
    }
   ],
   "source": [
    "df1.gendr.unique()\n",
    "#df1['gendr'].fillna(' ')\n",
    "df1['gendr'].value_counts()\n",
    "\n",
    "#Replace gendr X and U for nothing\n",
    "df1['gendr'] = df1['gendr'].replace({'X': ' ', 'U': ' '})\n",
    "df1['gendr'].value_counts()\n"
   ]
  },
  {
   "cell_type": "code",
   "execution_count": 8,
   "id": "df5e3f1e",
   "metadata": {},
   "outputs": [],
   "source": [
    "# 2 TABLE --> df_final_web_data_pt_1"
   ]
  },
  {
   "cell_type": "code",
   "execution_count": 9,
   "id": "1f86839a",
   "metadata": {},
   "outputs": [
    {
     "data": {
      "text/plain": [
       "(343141, 5)"
      ]
     },
     "execution_count": 9,
     "metadata": {},
     "output_type": "execute_result"
    }
   ],
   "source": [
    "import pandas as pd\n",
    "df2 = pd.read_csv(\"data/raw/df_final_web_data_pt_1.txt\")\n",
    "df2.shape"
   ]
  },
  {
   "cell_type": "code",
   "execution_count": 10,
   "id": "1d3f6a54",
   "metadata": {},
   "outputs": [
    {
     "data": {
      "text/html": [
       "<div>\n",
       "<style scoped>\n",
       "    .dataframe tbody tr th:only-of-type {\n",
       "        vertical-align: middle;\n",
       "    }\n",
       "\n",
       "    .dataframe tbody tr th {\n",
       "        vertical-align: top;\n",
       "    }\n",
       "\n",
       "    .dataframe thead th {\n",
       "        text-align: right;\n",
       "    }\n",
       "</style>\n",
       "<table border=\"1\" class=\"dataframe\">\n",
       "  <thead>\n",
       "    <tr style=\"text-align: right;\">\n",
       "      <th></th>\n",
       "      <th>client_id</th>\n",
       "      <th>visitor_id</th>\n",
       "      <th>visit_id</th>\n",
       "      <th>process_step</th>\n",
       "      <th>date_time</th>\n",
       "    </tr>\n",
       "  </thead>\n",
       "  <tbody>\n",
       "    <tr>\n",
       "      <th>0</th>\n",
       "      <td>9988021</td>\n",
       "      <td>580560515_7732621733</td>\n",
       "      <td>781255054_21935453173_531117</td>\n",
       "      <td>step_3</td>\n",
       "      <td>2017-04-17 15:27:07</td>\n",
       "    </tr>\n",
       "    <tr>\n",
       "      <th>1</th>\n",
       "      <td>9988021</td>\n",
       "      <td>580560515_7732621733</td>\n",
       "      <td>781255054_21935453173_531117</td>\n",
       "      <td>step_2</td>\n",
       "      <td>2017-04-17 15:26:51</td>\n",
       "    </tr>\n",
       "    <tr>\n",
       "      <th>2</th>\n",
       "      <td>9988021</td>\n",
       "      <td>580560515_7732621733</td>\n",
       "      <td>781255054_21935453173_531117</td>\n",
       "      <td>step_3</td>\n",
       "      <td>2017-04-17 15:19:22</td>\n",
       "    </tr>\n",
       "    <tr>\n",
       "      <th>3</th>\n",
       "      <td>9988021</td>\n",
       "      <td>580560515_7732621733</td>\n",
       "      <td>781255054_21935453173_531117</td>\n",
       "      <td>step_2</td>\n",
       "      <td>2017-04-17 15:19:13</td>\n",
       "    </tr>\n",
       "    <tr>\n",
       "      <th>4</th>\n",
       "      <td>9988021</td>\n",
       "      <td>580560515_7732621733</td>\n",
       "      <td>781255054_21935453173_531117</td>\n",
       "      <td>step_3</td>\n",
       "      <td>2017-04-17 15:18:04</td>\n",
       "    </tr>\n",
       "  </tbody>\n",
       "</table>\n",
       "</div>"
      ],
      "text/plain": [
       "   client_id            visitor_id                      visit_id process_step  \\\n",
       "0    9988021  580560515_7732621733  781255054_21935453173_531117       step_3   \n",
       "1    9988021  580560515_7732621733  781255054_21935453173_531117       step_2   \n",
       "2    9988021  580560515_7732621733  781255054_21935453173_531117       step_3   \n",
       "3    9988021  580560515_7732621733  781255054_21935453173_531117       step_2   \n",
       "4    9988021  580560515_7732621733  781255054_21935453173_531117       step_3   \n",
       "\n",
       "             date_time  \n",
       "0  2017-04-17 15:27:07  \n",
       "1  2017-04-17 15:26:51  \n",
       "2  2017-04-17 15:19:22  \n",
       "3  2017-04-17 15:19:13  \n",
       "4  2017-04-17 15:18:04  "
      ]
     },
     "execution_count": 10,
     "metadata": {},
     "output_type": "execute_result"
    }
   ],
   "source": [
    "#df_final_web_data_pt_1 (File 3)\n",
    "df2.head()"
   ]
  },
  {
   "cell_type": "code",
   "execution_count": 11,
   "id": "8aed2b3b",
   "metadata": {},
   "outputs": [
    {
     "data": {
      "text/plain": [
       "client_id        58391\n",
       "visitor_id       62936\n",
       "visit_id         75256\n",
       "process_step         5\n",
       "date_time       282666\n",
       "dtype: int64"
      ]
     },
     "execution_count": 11,
     "metadata": {},
     "output_type": "execute_result"
    }
   ],
   "source": [
    "#number of clients id\n",
    "df2.nunique()\n",
    "#df2.client_id.nunique()"
   ]
  },
  {
   "cell_type": "code",
   "execution_count": 12,
   "id": "5287ee12",
   "metadata": {},
   "outputs": [
    {
     "data": {
      "text/plain": [
       "(412264, 5)"
      ]
     },
     "execution_count": 12,
     "metadata": {},
     "output_type": "execute_result"
    }
   ],
   "source": [
    "import pandas as pd\n",
    "df3 = pd.read_csv(\"data/raw/df_final_web_data_pt_2.txt\")\n",
    "df3.shape"
   ]
  },
  {
   "cell_type": "code",
   "execution_count": 13,
   "id": "27de48a4",
   "metadata": {},
   "outputs": [
    {
     "data": {
      "text/html": [
       "<div>\n",
       "<style scoped>\n",
       "    .dataframe tbody tr th:only-of-type {\n",
       "        vertical-align: middle;\n",
       "    }\n",
       "\n",
       "    .dataframe tbody tr th {\n",
       "        vertical-align: top;\n",
       "    }\n",
       "\n",
       "    .dataframe thead th {\n",
       "        text-align: right;\n",
       "    }\n",
       "</style>\n",
       "<table border=\"1\" class=\"dataframe\">\n",
       "  <thead>\n",
       "    <tr style=\"text-align: right;\">\n",
       "      <th></th>\n",
       "      <th>client_id</th>\n",
       "      <th>visitor_id</th>\n",
       "      <th>visit_id</th>\n",
       "      <th>process_step</th>\n",
       "      <th>date_time</th>\n",
       "    </tr>\n",
       "  </thead>\n",
       "  <tbody>\n",
       "    <tr>\n",
       "      <th>0</th>\n",
       "      <td>763412</td>\n",
       "      <td>601952081_10457207388</td>\n",
       "      <td>397475557_40440946728_419634</td>\n",
       "      <td>confirm</td>\n",
       "      <td>2017-06-06 08:56:00</td>\n",
       "    </tr>\n",
       "    <tr>\n",
       "      <th>1</th>\n",
       "      <td>6019349</td>\n",
       "      <td>442094451_91531546617</td>\n",
       "      <td>154620534_35331068705_522317</td>\n",
       "      <td>confirm</td>\n",
       "      <td>2017-06-01 11:59:27</td>\n",
       "    </tr>\n",
       "    <tr>\n",
       "      <th>2</th>\n",
       "      <td>6019349</td>\n",
       "      <td>442094451_91531546617</td>\n",
       "      <td>154620534_35331068705_522317</td>\n",
       "      <td>step_3</td>\n",
       "      <td>2017-06-01 11:58:48</td>\n",
       "    </tr>\n",
       "    <tr>\n",
       "      <th>3</th>\n",
       "      <td>6019349</td>\n",
       "      <td>442094451_91531546617</td>\n",
       "      <td>154620534_35331068705_522317</td>\n",
       "      <td>step_2</td>\n",
       "      <td>2017-06-01 11:58:08</td>\n",
       "    </tr>\n",
       "    <tr>\n",
       "      <th>4</th>\n",
       "      <td>6019349</td>\n",
       "      <td>442094451_91531546617</td>\n",
       "      <td>154620534_35331068705_522317</td>\n",
       "      <td>step_1</td>\n",
       "      <td>2017-06-01 11:57:58</td>\n",
       "    </tr>\n",
       "  </tbody>\n",
       "</table>\n",
       "</div>"
      ],
      "text/plain": [
       "   client_id             visitor_id                      visit_id  \\\n",
       "0     763412  601952081_10457207388  397475557_40440946728_419634   \n",
       "1    6019349  442094451_91531546617  154620534_35331068705_522317   \n",
       "2    6019349  442094451_91531546617  154620534_35331068705_522317   \n",
       "3    6019349  442094451_91531546617  154620534_35331068705_522317   \n",
       "4    6019349  442094451_91531546617  154620534_35331068705_522317   \n",
       "\n",
       "  process_step            date_time  \n",
       "0      confirm  2017-06-06 08:56:00  \n",
       "1      confirm  2017-06-01 11:59:27  \n",
       "2       step_3  2017-06-01 11:58:48  \n",
       "3       step_2  2017-06-01 11:58:08  \n",
       "4       step_1  2017-06-01 11:57:58  "
      ]
     },
     "execution_count": 13,
     "metadata": {},
     "output_type": "execute_result"
    }
   ],
   "source": [
    "#df_final_web_data_pt_2 (File 4)\n",
    "df3.head()"
   ]
  },
  {
   "cell_type": "code",
   "execution_count": 14,
   "id": "87745f24",
   "metadata": {},
   "outputs": [
    {
     "data": {
      "text/plain": [
       "client_id       False\n",
       "visitor_id      False\n",
       "visit_id        False\n",
       "process_step    False\n",
       "date_time       False\n",
       "dtype: bool"
      ]
     },
     "execution_count": 14,
     "metadata": {},
     "output_type": "execute_result"
    }
   ],
   "source": [
    "df3.nunique()\n",
    "#df3['client_id'].isnull()\n",
    "df3.isna().any()"
   ]
  },
  {
   "cell_type": "code",
   "execution_count": 27,
   "id": "23ba029c",
   "metadata": {},
   "outputs": [
    {
     "data": {
      "text/html": [
       "<div>\n",
       "<style scoped>\n",
       "    .dataframe tbody tr th:only-of-type {\n",
       "        vertical-align: middle;\n",
       "    }\n",
       "\n",
       "    .dataframe tbody tr th {\n",
       "        vertical-align: top;\n",
       "    }\n",
       "\n",
       "    .dataframe thead th {\n",
       "        text-align: right;\n",
       "    }\n",
       "</style>\n",
       "<table border=\"1\" class=\"dataframe\">\n",
       "  <thead>\n",
       "    <tr style=\"text-align: right;\">\n",
       "      <th></th>\n",
       "      <th>client_id</th>\n",
       "      <th>visitor_id</th>\n",
       "      <th>visit_id</th>\n",
       "      <th>process_step</th>\n",
       "      <th>date_time</th>\n",
       "    </tr>\n",
       "  </thead>\n",
       "  <tbody>\n",
       "    <tr>\n",
       "      <th>0</th>\n",
       "      <td>9988021</td>\n",
       "      <td>580560515_7732621733</td>\n",
       "      <td>781255054_21935453173_531117</td>\n",
       "      <td>step_3</td>\n",
       "      <td>2017-04-17 15:27:07</td>\n",
       "    </tr>\n",
       "    <tr>\n",
       "      <th>1</th>\n",
       "      <td>9988021</td>\n",
       "      <td>580560515_7732621733</td>\n",
       "      <td>781255054_21935453173_531117</td>\n",
       "      <td>step_2</td>\n",
       "      <td>2017-04-17 15:26:51</td>\n",
       "    </tr>\n",
       "    <tr>\n",
       "      <th>2</th>\n",
       "      <td>9988021</td>\n",
       "      <td>580560515_7732621733</td>\n",
       "      <td>781255054_21935453173_531117</td>\n",
       "      <td>step_3</td>\n",
       "      <td>2017-04-17 15:19:22</td>\n",
       "    </tr>\n",
       "    <tr>\n",
       "      <th>3</th>\n",
       "      <td>9988021</td>\n",
       "      <td>580560515_7732621733</td>\n",
       "      <td>781255054_21935453173_531117</td>\n",
       "      <td>step_2</td>\n",
       "      <td>2017-04-17 15:19:13</td>\n",
       "    </tr>\n",
       "    <tr>\n",
       "      <th>4</th>\n",
       "      <td>9988021</td>\n",
       "      <td>580560515_7732621733</td>\n",
       "      <td>781255054_21935453173_531117</td>\n",
       "      <td>step_3</td>\n",
       "      <td>2017-04-17 15:18:04</td>\n",
       "    </tr>\n",
       "    <tr>\n",
       "      <th>...</th>\n",
       "      <td>...</td>\n",
       "      <td>...</td>\n",
       "      <td>...</td>\n",
       "      <td>...</td>\n",
       "      <td>...</td>\n",
       "    </tr>\n",
       "    <tr>\n",
       "      <th>412259</th>\n",
       "      <td>9668240</td>\n",
       "      <td>388766751_9038881013</td>\n",
       "      <td>922267647_3096648104_968866</td>\n",
       "      <td>start</td>\n",
       "      <td>2017-05-24 18:46:10</td>\n",
       "    </tr>\n",
       "    <tr>\n",
       "      <th>412260</th>\n",
       "      <td>9668240</td>\n",
       "      <td>388766751_9038881013</td>\n",
       "      <td>922267647_3096648104_968866</td>\n",
       "      <td>start</td>\n",
       "      <td>2017-05-24 18:45:29</td>\n",
       "    </tr>\n",
       "    <tr>\n",
       "      <th>412261</th>\n",
       "      <td>9668240</td>\n",
       "      <td>388766751_9038881013</td>\n",
       "      <td>922267647_3096648104_968866</td>\n",
       "      <td>step_1</td>\n",
       "      <td>2017-05-24 18:44:51</td>\n",
       "    </tr>\n",
       "    <tr>\n",
       "      <th>412262</th>\n",
       "      <td>9668240</td>\n",
       "      <td>388766751_9038881013</td>\n",
       "      <td>922267647_3096648104_968866</td>\n",
       "      <td>start</td>\n",
       "      <td>2017-05-24 18:44:34</td>\n",
       "    </tr>\n",
       "    <tr>\n",
       "      <th>412263</th>\n",
       "      <td>674799</td>\n",
       "      <td>947159805_81558194550</td>\n",
       "      <td>86152093_47511127657_716022</td>\n",
       "      <td>start</td>\n",
       "      <td>2017-06-03 12:17:09</td>\n",
       "    </tr>\n",
       "  </tbody>\n",
       "</table>\n",
       "<p>755405 rows × 5 columns</p>\n",
       "</div>"
      ],
      "text/plain": [
       "        client_id             visitor_id                      visit_id  \\\n",
       "0         9988021   580560515_7732621733  781255054_21935453173_531117   \n",
       "1         9988021   580560515_7732621733  781255054_21935453173_531117   \n",
       "2         9988021   580560515_7732621733  781255054_21935453173_531117   \n",
       "3         9988021   580560515_7732621733  781255054_21935453173_531117   \n",
       "4         9988021   580560515_7732621733  781255054_21935453173_531117   \n",
       "...           ...                    ...                           ...   \n",
       "412259    9668240   388766751_9038881013   922267647_3096648104_968866   \n",
       "412260    9668240   388766751_9038881013   922267647_3096648104_968866   \n",
       "412261    9668240   388766751_9038881013   922267647_3096648104_968866   \n",
       "412262    9668240   388766751_9038881013   922267647_3096648104_968866   \n",
       "412263     674799  947159805_81558194550   86152093_47511127657_716022   \n",
       "\n",
       "       process_step            date_time  \n",
       "0            step_3  2017-04-17 15:27:07  \n",
       "1            step_2  2017-04-17 15:26:51  \n",
       "2            step_3  2017-04-17 15:19:22  \n",
       "3            step_2  2017-04-17 15:19:13  \n",
       "4            step_3  2017-04-17 15:18:04  \n",
       "...             ...                  ...  \n",
       "412259        start  2017-05-24 18:46:10  \n",
       "412260        start  2017-05-24 18:45:29  \n",
       "412261       step_1  2017-05-24 18:44:51  \n",
       "412262        start  2017-05-24 18:44:34  \n",
       "412263        start  2017-06-03 12:17:09  \n",
       "\n",
       "[755405 rows x 5 columns]"
      ]
     },
     "metadata": {},
     "output_type": "display_data"
    },
    {
     "data": {
      "text/plain": [
       "client_id       120157\n",
       "visitor_id      130236\n",
       "visit_id        158095\n",
       "process_step         5\n",
       "date_time       629363\n",
       "dtype: int64"
      ]
     },
     "execution_count": 27,
     "metadata": {},
     "output_type": "execute_result"
    }
   ],
   "source": [
    "#concat df2 and df3\n",
    "#pd.concat([df2_client_id, df3_client_id], axis=1)\n",
    "new_df2_df3 = pd.concat([df2, df3], axis=0)\n",
    "display(new_df2_df3)\n",
    "new_df2_df3.nunique()\n"
   ]
  },
  {
   "cell_type": "code",
   "execution_count": 16,
   "id": "918109a2",
   "metadata": {},
   "outputs": [
    {
     "data": {
      "text/plain": [
       "(70609, 2)"
      ]
     },
     "execution_count": 16,
     "metadata": {},
     "output_type": "execute_result"
    }
   ],
   "source": [
    "# Loading the housing price dataset (assuming the file name is \"housing_price.csv\")\n",
    "import pandas as pd\n",
    "df4 = pd.read_csv(\"data/raw/df_final_experiment_clients.txt\")\n",
    "df4.shape"
   ]
  },
  {
   "cell_type": "code",
   "execution_count": 17,
   "id": "786b418f",
   "metadata": {},
   "outputs": [
    {
     "data": {
      "text/html": [
       "<div>\n",
       "<style scoped>\n",
       "    .dataframe tbody tr th:only-of-type {\n",
       "        vertical-align: middle;\n",
       "    }\n",
       "\n",
       "    .dataframe tbody tr th {\n",
       "        vertical-align: top;\n",
       "    }\n",
       "\n",
       "    .dataframe thead th {\n",
       "        text-align: right;\n",
       "    }\n",
       "</style>\n",
       "<table border=\"1\" class=\"dataframe\">\n",
       "  <thead>\n",
       "    <tr style=\"text-align: right;\">\n",
       "      <th></th>\n",
       "      <th>client_id</th>\n",
       "      <th>Variation</th>\n",
       "    </tr>\n",
       "  </thead>\n",
       "  <tbody>\n",
       "    <tr>\n",
       "      <th>0</th>\n",
       "      <td>9988021</td>\n",
       "      <td>Test</td>\n",
       "    </tr>\n",
       "    <tr>\n",
       "      <th>1</th>\n",
       "      <td>8320017</td>\n",
       "      <td>Test</td>\n",
       "    </tr>\n",
       "    <tr>\n",
       "      <th>2</th>\n",
       "      <td>4033851</td>\n",
       "      <td>Control</td>\n",
       "    </tr>\n",
       "    <tr>\n",
       "      <th>3</th>\n",
       "      <td>1982004</td>\n",
       "      <td>Test</td>\n",
       "    </tr>\n",
       "    <tr>\n",
       "      <th>4</th>\n",
       "      <td>9294070</td>\n",
       "      <td>Control</td>\n",
       "    </tr>\n",
       "  </tbody>\n",
       "</table>\n",
       "</div>"
      ],
      "text/plain": [
       "   client_id Variation\n",
       "0    9988021      Test\n",
       "1    8320017      Test\n",
       "2    4033851   Control\n",
       "3    1982004      Test\n",
       "4    9294070   Control"
      ]
     },
     "execution_count": 17,
     "metadata": {},
     "output_type": "execute_result"
    }
   ],
   "source": [
    "#df_final_experiment_clients (File 2)\n",
    "df4.head()"
   ]
  },
  {
   "cell_type": "code",
   "execution_count": 18,
   "id": "e87611c0",
   "metadata": {},
   "outputs": [
    {
     "data": {
      "text/plain": [
       "client_id        0\n",
       "Variation    20109\n",
       "dtype: int64"
      ]
     },
     "execution_count": 18,
     "metadata": {},
     "output_type": "execute_result"
    }
   ],
   "source": [
    "df4.nunique()\n",
    "df4.client_id.nunique()\n",
    "#df4.Variation.nunique()\n",
    "#df4.isnull()\n",
    "df4.isna().sum()"
   ]
  },
  {
   "cell_type": "code",
   "execution_count": 19,
   "id": "b601f95d",
   "metadata": {},
   "outputs": [
    {
     "data": {
      "text/html": [
       "<div>\n",
       "<style scoped>\n",
       "    .dataframe tbody tr th:only-of-type {\n",
       "        vertical-align: middle;\n",
       "    }\n",
       "\n",
       "    .dataframe tbody tr th {\n",
       "        vertical-align: top;\n",
       "    }\n",
       "\n",
       "    .dataframe thead th {\n",
       "        text-align: right;\n",
       "    }\n",
       "</style>\n",
       "<table border=\"1\" class=\"dataframe\">\n",
       "  <thead>\n",
       "    <tr style=\"text-align: right;\">\n",
       "      <th></th>\n",
       "      <th>client_id</th>\n",
       "      <th>clnt_tenure_yr</th>\n",
       "      <th>clnt_tenure_mnth</th>\n",
       "      <th>clnt_age</th>\n",
       "      <th>gendr</th>\n",
       "      <th>num_accts</th>\n",
       "      <th>bal</th>\n",
       "      <th>calls_6_mnth</th>\n",
       "      <th>logons_6_mnth</th>\n",
       "      <th>Variation</th>\n",
       "    </tr>\n",
       "  </thead>\n",
       "  <tbody>\n",
       "    <tr>\n",
       "      <th>0</th>\n",
       "      <td>836976</td>\n",
       "      <td>6.0</td>\n",
       "      <td>73.0</td>\n",
       "      <td>60.5</td>\n",
       "      <td></td>\n",
       "      <td>2.0</td>\n",
       "      <td>45105.30</td>\n",
       "      <td>6.0</td>\n",
       "      <td>9.0</td>\n",
       "      <td>Test</td>\n",
       "    </tr>\n",
       "    <tr>\n",
       "      <th>1</th>\n",
       "      <td>2304905</td>\n",
       "      <td>7.0</td>\n",
       "      <td>94.0</td>\n",
       "      <td>58.0</td>\n",
       "      <td></td>\n",
       "      <td>2.0</td>\n",
       "      <td>110860.30</td>\n",
       "      <td>6.0</td>\n",
       "      <td>9.0</td>\n",
       "      <td>Control</td>\n",
       "    </tr>\n",
       "    <tr>\n",
       "      <th>2</th>\n",
       "      <td>1439522</td>\n",
       "      <td>5.0</td>\n",
       "      <td>64.0</td>\n",
       "      <td>32.0</td>\n",
       "      <td></td>\n",
       "      <td>2.0</td>\n",
       "      <td>52467.79</td>\n",
       "      <td>6.0</td>\n",
       "      <td>9.0</td>\n",
       "      <td>Test</td>\n",
       "    </tr>\n",
       "    <tr>\n",
       "      <th>3</th>\n",
       "      <td>1562045</td>\n",
       "      <td>16.0</td>\n",
       "      <td>198.0</td>\n",
       "      <td>49.0</td>\n",
       "      <td>M</td>\n",
       "      <td>2.0</td>\n",
       "      <td>67454.65</td>\n",
       "      <td>3.0</td>\n",
       "      <td>6.0</td>\n",
       "      <td>Test</td>\n",
       "    </tr>\n",
       "    <tr>\n",
       "      <th>4</th>\n",
       "      <td>5126305</td>\n",
       "      <td>12.0</td>\n",
       "      <td>145.0</td>\n",
       "      <td>33.0</td>\n",
       "      <td>F</td>\n",
       "      <td>2.0</td>\n",
       "      <td>103671.75</td>\n",
       "      <td>0.0</td>\n",
       "      <td>3.0</td>\n",
       "      <td>Control</td>\n",
       "    </tr>\n",
       "    <tr>\n",
       "      <th>...</th>\n",
       "      <td>...</td>\n",
       "      <td>...</td>\n",
       "      <td>...</td>\n",
       "      <td>...</td>\n",
       "      <td>...</td>\n",
       "      <td>...</td>\n",
       "      <td>...</td>\n",
       "      <td>...</td>\n",
       "      <td>...</td>\n",
       "      <td>...</td>\n",
       "    </tr>\n",
       "    <tr>\n",
       "      <th>70604</th>\n",
       "      <td>7993686</td>\n",
       "      <td>4.0</td>\n",
       "      <td>56.0</td>\n",
       "      <td>38.5</td>\n",
       "      <td></td>\n",
       "      <td>3.0</td>\n",
       "      <td>1411062.68</td>\n",
       "      <td>5.0</td>\n",
       "      <td>5.0</td>\n",
       "      <td>NaN</td>\n",
       "    </tr>\n",
       "    <tr>\n",
       "      <th>70605</th>\n",
       "      <td>8981690</td>\n",
       "      <td>12.0</td>\n",
       "      <td>148.0</td>\n",
       "      <td>31.0</td>\n",
       "      <td>M</td>\n",
       "      <td>2.0</td>\n",
       "      <td>101867.07</td>\n",
       "      <td>6.0</td>\n",
       "      <td>6.0</td>\n",
       "      <td>NaN</td>\n",
       "    </tr>\n",
       "    <tr>\n",
       "      <th>70606</th>\n",
       "      <td>333913</td>\n",
       "      <td>16.0</td>\n",
       "      <td>198.0</td>\n",
       "      <td>61.5</td>\n",
       "      <td>F</td>\n",
       "      <td>2.0</td>\n",
       "      <td>40745.00</td>\n",
       "      <td>3.0</td>\n",
       "      <td>3.0</td>\n",
       "      <td>NaN</td>\n",
       "    </tr>\n",
       "    <tr>\n",
       "      <th>70607</th>\n",
       "      <td>1573142</td>\n",
       "      <td>21.0</td>\n",
       "      <td>255.0</td>\n",
       "      <td>68.0</td>\n",
       "      <td>M</td>\n",
       "      <td>3.0</td>\n",
       "      <td>475114.69</td>\n",
       "      <td>4.0</td>\n",
       "      <td>4.0</td>\n",
       "      <td>NaN</td>\n",
       "    </tr>\n",
       "    <tr>\n",
       "      <th>70608</th>\n",
       "      <td>5602139</td>\n",
       "      <td>21.0</td>\n",
       "      <td>254.0</td>\n",
       "      <td>59.5</td>\n",
       "      <td>F</td>\n",
       "      <td>3.0</td>\n",
       "      <td>157498.73</td>\n",
       "      <td>7.0</td>\n",
       "      <td>7.0</td>\n",
       "      <td>NaN</td>\n",
       "    </tr>\n",
       "  </tbody>\n",
       "</table>\n",
       "<p>70609 rows × 10 columns</p>\n",
       "</div>"
      ],
      "text/plain": [
       "       client_id  clnt_tenure_yr  clnt_tenure_mnth  clnt_age gendr  num_accts  \\\n",
       "0         836976             6.0              73.0      60.5              2.0   \n",
       "1        2304905             7.0              94.0      58.0              2.0   \n",
       "2        1439522             5.0              64.0      32.0              2.0   \n",
       "3        1562045            16.0             198.0      49.0     M        2.0   \n",
       "4        5126305            12.0             145.0      33.0     F        2.0   \n",
       "...          ...             ...               ...       ...   ...        ...   \n",
       "70604    7993686             4.0              56.0      38.5              3.0   \n",
       "70605    8981690            12.0             148.0      31.0     M        2.0   \n",
       "70606     333913            16.0             198.0      61.5     F        2.0   \n",
       "70607    1573142            21.0             255.0      68.0     M        3.0   \n",
       "70608    5602139            21.0             254.0      59.5     F        3.0   \n",
       "\n",
       "              bal  calls_6_mnth  logons_6_mnth Variation  \n",
       "0        45105.30           6.0            9.0      Test  \n",
       "1       110860.30           6.0            9.0   Control  \n",
       "2        52467.79           6.0            9.0      Test  \n",
       "3        67454.65           3.0            6.0      Test  \n",
       "4       103671.75           0.0            3.0   Control  \n",
       "...           ...           ...            ...       ...  \n",
       "70604  1411062.68           5.0            5.0       NaN  \n",
       "70605   101867.07           6.0            6.0       NaN  \n",
       "70606    40745.00           3.0            3.0       NaN  \n",
       "70607   475114.69           4.0            4.0       NaN  \n",
       "70608   157498.73           7.0            7.0       NaN  \n",
       "\n",
       "[70609 rows x 10 columns]"
      ]
     },
     "metadata": {},
     "output_type": "display_data"
    },
    {
     "data": {
      "text/plain": [
       "client_id           70609\n",
       "clnt_tenure_yr         54\n",
       "clnt_tenure_mnth      482\n",
       "clnt_age              165\n",
       "gendr                   3\n",
       "num_accts               8\n",
       "bal                 70328\n",
       "calls_6_mnth            8\n",
       "logons_6_mnth           9\n",
       "Variation               2\n",
       "dtype: int64"
      ]
     },
     "execution_count": 19,
     "metadata": {},
     "output_type": "execute_result"
    }
   ],
   "source": [
    "\n",
    "#concat df1(client_id, clnt_tenure_yr, clnt_tenure_mon, clnt_age, gend, num_accts, bal, cal_6_mnths, logons_6_mnths) + df4(client_id, variation)\n",
    "new_df1_df4 = pd.merge(df1, df4)\n",
    "display(new_df1_df4)\n",
    "new_df1_df4.nunique()"
   ]
  },
  {
   "cell_type": "code",
   "execution_count": 20,
   "id": "e9a22e0b",
   "metadata": {},
   "outputs": [
    {
     "data": {
      "text/plain": [
       "gendr\n",
       "     24125\n",
       "M    23724\n",
       "F    22746\n",
       "Name: count, dtype: int64"
      ]
     },
     "execution_count": 20,
     "metadata": {},
     "output_type": "execute_result"
    }
   ],
   "source": [
    "#df1.gendr.unique()\n",
    "#df1['gendr'].fillna(' ')\n",
    "new_df1_df4['gendr'].value_counts()\n",
    "\n",
    "#Replace gendr X and U for nothing\n",
    "#new_df1_df4['gendr'] = df1['gendr'].replace({'X': ' ', 'U': ' '})\n",
    "#df1['gendr'].value_counts()\n"
   ]
  },
  {
   "cell_type": "code",
   "execution_count": 21,
   "id": "e694fe42",
   "metadata": {},
   "outputs": [],
   "source": [
    "#We are changing columns names: 'gendr': 'gender', 'num_accts': 'number_of_accounts', 'bal': 'balance'\n",
    "new_df1_df4.rename(columns={'gendr': 'gender', 'num_accts': 'number_of_accounts', 'bal': 'balance'},inplace=True)"
   ]
  },
  {
   "cell_type": "code",
   "execution_count": 22,
   "id": "067c1ad1",
   "metadata": {},
   "outputs": [
    {
     "data": {
      "text/html": [
       "<div>\n",
       "<style scoped>\n",
       "    .dataframe tbody tr th:only-of-type {\n",
       "        vertical-align: middle;\n",
       "    }\n",
       "\n",
       "    .dataframe tbody tr th {\n",
       "        vertical-align: top;\n",
       "    }\n",
       "\n",
       "    .dataframe thead th {\n",
       "        text-align: right;\n",
       "    }\n",
       "</style>\n",
       "<table border=\"1\" class=\"dataframe\">\n",
       "  <thead>\n",
       "    <tr style=\"text-align: right;\">\n",
       "      <th></th>\n",
       "      <th>client_id</th>\n",
       "      <th>clnt_tenure_yr</th>\n",
       "      <th>clnt_tenure_mnth</th>\n",
       "      <th>clnt_age</th>\n",
       "      <th>gender</th>\n",
       "      <th>number_of_accounts</th>\n",
       "      <th>balance</th>\n",
       "      <th>calls_6_mnth</th>\n",
       "      <th>logons_6_mnth</th>\n",
       "      <th>Variation</th>\n",
       "    </tr>\n",
       "  </thead>\n",
       "  <tbody>\n",
       "    <tr>\n",
       "      <th>39367</th>\n",
       "      <td>9286288</td>\n",
       "      <td>21.0</td>\n",
       "      <td>254.0</td>\n",
       "      <td>62.5</td>\n",
       "      <td>M</td>\n",
       "      <td>3.0</td>\n",
       "      <td>16320040.15</td>\n",
       "      <td>6.0</td>\n",
       "      <td>9.0</td>\n",
       "      <td>Test</td>\n",
       "    </tr>\n",
       "    <tr>\n",
       "      <th>63746</th>\n",
       "      <td>8339240</td>\n",
       "      <td>6.0</td>\n",
       "      <td>80.0</td>\n",
       "      <td>26.5</td>\n",
       "      <td>M</td>\n",
       "      <td>2.0</td>\n",
       "      <td>12838418.01</td>\n",
       "      <td>3.0</td>\n",
       "      <td>3.0</td>\n",
       "      <td>NaN</td>\n",
       "    </tr>\n",
       "    <tr>\n",
       "      <th>23849</th>\n",
       "      <td>7070097</td>\n",
       "      <td>11.0</td>\n",
       "      <td>133.0</td>\n",
       "      <td>53.0</td>\n",
       "      <td>M</td>\n",
       "      <td>2.0</td>\n",
       "      <td>8986419.77</td>\n",
       "      <td>6.0</td>\n",
       "      <td>9.0</td>\n",
       "      <td>Test</td>\n",
       "    </tr>\n",
       "    <tr>\n",
       "      <th>13318</th>\n",
       "      <td>9440656</td>\n",
       "      <td>7.0</td>\n",
       "      <td>94.0</td>\n",
       "      <td>63.0</td>\n",
       "      <td>F</td>\n",
       "      <td>2.0</td>\n",
       "      <td>8292996.21</td>\n",
       "      <td>6.0</td>\n",
       "      <td>9.0</td>\n",
       "      <td>Control</td>\n",
       "    </tr>\n",
       "    <tr>\n",
       "      <th>2171</th>\n",
       "      <td>2291985</td>\n",
       "      <td>7.0</td>\n",
       "      <td>85.0</td>\n",
       "      <td>41.0</td>\n",
       "      <td>M</td>\n",
       "      <td>2.0</td>\n",
       "      <td>8247729.97</td>\n",
       "      <td>1.0</td>\n",
       "      <td>4.0</td>\n",
       "      <td>Control</td>\n",
       "    </tr>\n",
       "    <tr>\n",
       "      <th>20871</th>\n",
       "      <td>1678193</td>\n",
       "      <td>24.0</td>\n",
       "      <td>299.0</td>\n",
       "      <td>65.5</td>\n",
       "      <td>M</td>\n",
       "      <td>3.0</td>\n",
       "      <td>8137343.24</td>\n",
       "      <td>6.0</td>\n",
       "      <td>9.0</td>\n",
       "      <td>Test</td>\n",
       "    </tr>\n",
       "    <tr>\n",
       "      <th>31811</th>\n",
       "      <td>6762377</td>\n",
       "      <td>16.0</td>\n",
       "      <td>193.0</td>\n",
       "      <td>41.5</td>\n",
       "      <td>F</td>\n",
       "      <td>3.0</td>\n",
       "      <td>8045102.60</td>\n",
       "      <td>6.0</td>\n",
       "      <td>9.0</td>\n",
       "      <td>Test</td>\n",
       "    </tr>\n",
       "    <tr>\n",
       "      <th>14057</th>\n",
       "      <td>3519657</td>\n",
       "      <td>18.0</td>\n",
       "      <td>218.0</td>\n",
       "      <td>66.5</td>\n",
       "      <td>M</td>\n",
       "      <td>6.0</td>\n",
       "      <td>7741994.01</td>\n",
       "      <td>6.0</td>\n",
       "      <td>9.0</td>\n",
       "      <td>Control</td>\n",
       "    </tr>\n",
       "    <tr>\n",
       "      <th>21184</th>\n",
       "      <td>987970</td>\n",
       "      <td>14.0</td>\n",
       "      <td>179.0</td>\n",
       "      <td>74.5</td>\n",
       "      <td>M</td>\n",
       "      <td>3.0</td>\n",
       "      <td>7339443.17</td>\n",
       "      <td>4.0</td>\n",
       "      <td>9.0</td>\n",
       "      <td>Control</td>\n",
       "    </tr>\n",
       "    <tr>\n",
       "      <th>33222</th>\n",
       "      <td>857273</td>\n",
       "      <td>31.0</td>\n",
       "      <td>376.0</td>\n",
       "      <td>56.5</td>\n",
       "      <td>M</td>\n",
       "      <td>5.0</td>\n",
       "      <td>6716305.28</td>\n",
       "      <td>6.0</td>\n",
       "      <td>9.0</td>\n",
       "      <td>Control</td>\n",
       "    </tr>\n",
       "  </tbody>\n",
       "</table>\n",
       "</div>"
      ],
      "text/plain": [
       "       client_id  clnt_tenure_yr  clnt_tenure_mnth  clnt_age gender  \\\n",
       "39367    9286288            21.0             254.0      62.5      M   \n",
       "63746    8339240             6.0              80.0      26.5      M   \n",
       "23849    7070097            11.0             133.0      53.0      M   \n",
       "13318    9440656             7.0              94.0      63.0      F   \n",
       "2171     2291985             7.0              85.0      41.0      M   \n",
       "20871    1678193            24.0             299.0      65.5      M   \n",
       "31811    6762377            16.0             193.0      41.5      F   \n",
       "14057    3519657            18.0             218.0      66.5      M   \n",
       "21184     987970            14.0             179.0      74.5      M   \n",
       "33222     857273            31.0             376.0      56.5      M   \n",
       "\n",
       "       number_of_accounts      balance  calls_6_mnth  logons_6_mnth Variation  \n",
       "39367                 3.0  16320040.15           6.0            9.0      Test  \n",
       "63746                 2.0  12838418.01           3.0            3.0       NaN  \n",
       "23849                 2.0   8986419.77           6.0            9.0      Test  \n",
       "13318                 2.0   8292996.21           6.0            9.0   Control  \n",
       "2171                  2.0   8247729.97           1.0            4.0   Control  \n",
       "20871                 3.0   8137343.24           6.0            9.0      Test  \n",
       "31811                 3.0   8045102.60           6.0            9.0      Test  \n",
       "14057                 6.0   7741994.01           6.0            9.0   Control  \n",
       "21184                 3.0   7339443.17           4.0            9.0   Control  \n",
       "33222                 5.0   6716305.28           6.0            9.0   Control  "
      ]
     },
     "execution_count": 22,
     "metadata": {},
     "output_type": "execute_result"
    }
   ],
   "source": [
    "# TOP10 clients by balance amount\n",
    "df1_4_sorted = new_df1_df4.sort_values(by='balance', ascending=False)\n",
    "top_10_values = df1_4_sorted.head(10)\n",
    "top_10_values"
   ]
  },
  {
   "cell_type": "code",
   "execution_count": 23,
   "id": "e2e3d054",
   "metadata": {},
   "outputs": [
    {
     "data": {
      "text/html": [
       "<div>\n",
       "<style scoped>\n",
       "    .dataframe tbody tr th:only-of-type {\n",
       "        vertical-align: middle;\n",
       "    }\n",
       "\n",
       "    .dataframe tbody tr th {\n",
       "        vertical-align: top;\n",
       "    }\n",
       "\n",
       "    .dataframe thead th {\n",
       "        text-align: right;\n",
       "    }\n",
       "</style>\n",
       "<table border=\"1\" class=\"dataframe\">\n",
       "  <thead>\n",
       "    <tr style=\"text-align: right;\">\n",
       "      <th></th>\n",
       "      <th>clnt_tenure_yr</th>\n",
       "      <th>clnt_age</th>\n",
       "    </tr>\n",
       "  </thead>\n",
       "  <tbody>\n",
       "    <tr>\n",
       "      <th>count</th>\n",
       "      <td>70595.000000</td>\n",
       "      <td>70594.000000</td>\n",
       "    </tr>\n",
       "    <tr>\n",
       "      <th>mean</th>\n",
       "      <td>12.052950</td>\n",
       "      <td>46.442240</td>\n",
       "    </tr>\n",
       "    <tr>\n",
       "      <th>std</th>\n",
       "      <td>6.871819</td>\n",
       "      <td>15.591273</td>\n",
       "    </tr>\n",
       "    <tr>\n",
       "      <th>min</th>\n",
       "      <td>2.000000</td>\n",
       "      <td>13.500000</td>\n",
       "    </tr>\n",
       "    <tr>\n",
       "      <th>25%</th>\n",
       "      <td>6.000000</td>\n",
       "      <td>32.500000</td>\n",
       "    </tr>\n",
       "    <tr>\n",
       "      <th>50%</th>\n",
       "      <td>11.000000</td>\n",
       "      <td>47.000000</td>\n",
       "    </tr>\n",
       "    <tr>\n",
       "      <th>75%</th>\n",
       "      <td>16.000000</td>\n",
       "      <td>59.000000</td>\n",
       "    </tr>\n",
       "    <tr>\n",
       "      <th>max</th>\n",
       "      <td>62.000000</td>\n",
       "      <td>96.000000</td>\n",
       "    </tr>\n",
       "  </tbody>\n",
       "</table>\n",
       "</div>"
      ],
      "text/plain": [
       "       clnt_tenure_yr      clnt_age\n",
       "count    70595.000000  70594.000000\n",
       "mean        12.052950     46.442240\n",
       "std          6.871819     15.591273\n",
       "min          2.000000     13.500000\n",
       "25%          6.000000     32.500000\n",
       "50%         11.000000     47.000000\n",
       "75%         16.000000     59.000000\n",
       "max         62.000000     96.000000"
      ]
     },
     "execution_count": 23,
     "metadata": {},
     "output_type": "execute_result"
    }
   ],
   "source": [
    "#Describing clnt_tenure_yr and clnt_age\n",
    "new_df1_df4[['clnt_tenure_yr','clnt_age']].describe()"
   ]
  },
  {
   "cell_type": "code",
   "execution_count": 26,
   "id": "f959ba20",
   "metadata": {},
   "outputs": [
    {
     "data": {
      "text/plain": [
       "gender\n",
       "     24125\n",
       "M    23724\n",
       "F    22746\n",
       "Name: count, dtype: int64"
      ]
     },
     "execution_count": 26,
     "metadata": {},
     "output_type": "execute_result"
    }
   ],
   "source": [
    "new_df1_df4['gender'].value_counts()"
   ]
  },
  {
   "cell_type": "code",
   "execution_count": null,
   "id": "6946497d",
   "metadata": {},
   "outputs": [
    {
     "data": {
      "text/plain": [
       "client_id               0\n",
       "clnt_tenure_yr         14\n",
       "clnt_tenure_mnth       14\n",
       "clnt_age               15\n",
       "gendr                  14\n",
       "num_accts              14\n",
       "bal                    14\n",
       "calls_6_mnth           14\n",
       "logons_6_mnth          14\n",
       "Variation           20109\n",
       "dtype: int64"
      ]
     },
     "execution_count": 105,
     "metadata": {},
     "output_type": "execute_result"
    }
   ],
   "source": [
    "new_df1_df4.Variation.unique()\n",
    "new_df1_df4['Variation'].value_counts()\n",
    "\n",
    "#to count how many nan I do have\n",
    "new_df1_df4.isna().sum()\n"
   ]
  },
  {
   "cell_type": "code",
   "execution_count": null,
   "id": "5b0f6e47",
   "metadata": {},
   "outputs": [
    {
     "data": {
      "text/plain": [
       "(50487, 10)"
      ]
     },
     "execution_count": 114,
     "metadata": {},
     "output_type": "execute_result"
    }
   ],
   "source": [
    "#We have dreopped these 20109 lines rows with NAN, we had 70609 and now we have: 50487\n",
    "new_df1_df4.dropna(inplace=True)\n",
    "new_df1_df4['Variation'].value_counts()\n",
    "new_df1_df4.shape"
   ]
  },
  {
   "cell_type": "code",
   "execution_count": 28,
   "id": "193d0fa6",
   "metadata": {},
   "outputs": [
    {
     "name": "stderr",
     "output_type": "stream",
     "text": [
      "C:\\Users\\macar\\AppData\\Local\\Temp\\ipykernel_11664\\499815901.py:8: FutureWarning: \n",
      "\n",
      "Passing `palette` without assigning `hue` is deprecated and will be removed in v0.14.0. Assign the `x` variable to `hue` and set `legend=False` for the same effect.\n",
      "\n",
      "  sns.barplot(data=new_df2_df3[ new_df2_df3['client_id'].isin(top10_client_id)], x='process_step', y='client_id', palette=\"coolwarm\", ax=axes);\n"
     ]
    },
    {
     "data": {
      "image/png": "[encoded data removed]",
      "text/plain": [
       "<Figure size 1000x1500 with 1 Axes>"
      ]
     },
     "metadata": {},
     "output_type": "display_data"
    }
   ],
   "source": [
    "#DAY2 \n",
    "#client behavior analysis\n",
    "# I am going to use  this df: new_df2_df3  process_step\t| client_id\n",
    "#1. Who are the primary clients using this online process?\n",
    "#2. Are the primary clients younger or older, new or long-standing?\n",
    "top10_client_id = new_df2_df3['client_id'].value_counts().iloc[:10].index\n",
    "fig, axes = plt.subplots(figsize=(10,15))\n",
    "sns.barplot(data=new_df2_df3[ new_df2_df3['client_id'].isin(top10_client_id)], x='process_step', y='client_id', palette=\"coolwarm\", ax=axes);"
   ]
  },
  {
   "cell_type": "code",
   "execution_count": null,
   "id": "453955c9",
   "metadata": {},
   "outputs": [
    {
     "data": {
      "image/png": "[encoded data removed]",
      "text/plain": [
       "<Figure size 640x480 with 1 Axes>"
      ]
     },
     "metadata": {},
     "output_type": "display_data"
    }
   ],
   "source": [
    "#\n",
    "fig, axes = plt.subplots()\n",
    "sns.histplot(new_df1_df4['clnt_tenure_yr'], kde=True, bins=30, color=\"salmon\", ax=axes);\n",
    "plt.show()"
   ]
  },
  {
   "cell_type": "code",
   "execution_count": null,
   "id": "a5cf5a9e",
   "metadata": {},
   "outputs": [],
   "source": [
    "#2. Are the primary clients younger or older, new or long-standing?"
   ]
  },
  {
   "cell_type": "code",
   "execution_count": 29,
   "id": "e65327f8",
   "metadata": {},
   "outputs": [
    {
     "name": "stdout",
     "output_type": "stream",
     "text": [
      "process_step\n",
      "step_3     102721\n",
      "step_1      28577\n",
      "step_2      20428\n",
      "start         284\n",
      "confirm         0\n",
      "Name: error_backstep, dtype: int64\n"
     ]
    }
   ],
   "source": [
    "#DAY 3 SUCCESS INDICATORS\n",
    "\n",
    "#Completion Rate: \n",
    "#1. to order by client_id and date_time\n",
    "new_df2_df3 = new_df2_df3.sort_values(by=['client_id', 'date_time'])\n",
    "\n",
    "#2. To calculate the next step for each user\n",
    "new_df2_df3['next_step'] = new_df2_df3.groupby('client_id')['process_step'].shift(-1)\n",
    "\n",
    "#3. To check if went back\n",
    "new_df2_df3['error_backstep'] = new_df2_df3['next_step'] < new_df2_df3['process_step']\n",
    "#this creates a col booleana T/F\n",
    "\n",
    "#number of errors per step\n",
    "error_count_by_step = new_df2_df3.groupby('process_step')['error_backstep'].sum()\n",
    "print(error_count_by_step.sort_values(ascending=False))"
   ]
  },
  {
   "cell_type": "code",
   "execution_count": null,
   "id": "41599516",
   "metadata": {},
   "outputs": [],
   "source": [
    "#1. Completion Rate\n",
    "#-This line filters users who reached the “confirm” step, which is considered the final step of the funnel.\n",
    "#-It then counts how many users reached this step using groupby().size().\n",
    "#-This gives you the completion rate: how many users finished the process."
   ]
  },
  {
   "cell_type": "code",
   "execution_count": null,
   "id": "085d9153",
   "metadata": {},
   "outputs": [
    {
     "name": "stdout",
     "output_type": "stream",
     "text": [
      "process_step\n",
      "confirm   3 days 00:13:54.903339743\n",
      "start     0 days 22:57:48.680451110\n",
      "step_1    0 days 09:20:59.881194241\n",
      "step_2    0 days 05:14:25.662991014\n",
      "step_3    0 days 09:01:39.903402084\n",
      "Name: time_spent, dtype: timedelta64[ns]\n"
     ]
    }
   ],
   "source": [
    "#DAY 3 SUCCESS INDICATORS\n",
    "\n",
    "#2  TIME SPENT ON EACH STEP\n",
    "#new_df2_df3['client_id'].value_counts()\n",
    "#new_df2_df3['visitor_id'].value_counts()\n",
    "#new_df2_df3['visit_id'].value_counts()\n",
    "\n",
    "#Completion rate: The total users who reach the final 'confirm step' were 102963\n",
    "#new_df2_df3['process_step'].value_counts()\n",
    "\n",
    "#2 Time spent on each step: \n",
    "#to calculate the average date_time of each step\n",
    "\n",
    "#1. Ensure date_time is in datetime format\n",
    "new_df2_df3['date_time'] = pd.to_datetime(new_df2_df3['date_time'])\n",
    "\n",
    "# 2. Sort by user and time\n",
    "new_df2_df3 = new_df2_df3.sort_values(by=['client_id', 'date_time'])\n",
    "# 3. Calculate time difference to next row per user (new columns time_spent is added)\n",
    "new_df2_df3['time_spent'] = new_df2_df3.groupby('client_id')['date_time'].shift(-1) - new_df2_df3['date_time']\n",
    "\n",
    "# 4. Compute average time spent per process_step \n",
    "avg_time_per_step = new_df2_df3.groupby('process_step')['time_spent'].mean()\n",
    "\n",
    "print(avg_time_per_step)\n",
    "\n",
    "#testing\n",
    "#print(new_df2_df3.columns)\n",
    "#print(new_df2_df3['date_time'].dtype)\n",
    "#print(new_df2_df3['date_time'].isnull().sum())\n",
    "#print(new_df2_df3['process_step'].unique())\n",
    "#print(new_df2_df3[['client_id', 'process_step', 'date_time', 'time_spent']].head(10))\n"
   ]
  },
  {
   "cell_type": "code",
   "execution_count": null,
   "id": "d994c7bd",
   "metadata": {},
   "outputs": [],
   "source": [
    "#2. Time Spent on Each Step\n",
    "#For each user session, the code calculates the timestamp of the next step.\n",
    "#Then it calculates the time difference between the current and next step in seconds.\n",
    "#This allows us to calculate the average time spent on each step of the process."
   ]
  },
  {
   "cell_type": "code",
   "execution_count": null,
   "id": "1dc14134",
   "metadata": {},
   "outputs": [
    {
     "name": "stdout",
     "output_type": "stream",
     "text": [
      "process_step\n",
      "step_3     91.517436\n",
      "step_1     17.511168\n",
      "step_2     15.352242\n",
      "start       0.116420\n",
      "confirm     0.000000\n",
      "Name: error_backstep, dtype: float64\n"
     ]
    }
   ],
   "source": [
    "#DAY 3 SUCCESS INDICATORS\n",
    "# Error Rates: If there's a step where users go back to a previous step, it may indicate confusion or an error. You should consider moving from a later step to an earlier one as an error.\n",
    "#%\n",
    "error_percentage_by_step = new_df2_df3.groupby('process_step')['error_backstep'].mean() * 100\n",
    "# Mostrar el resultado ordenado\n",
    "print(error_percentage_by_step.sort_values(ascending=False))"
   ]
  },
  {
   "cell_type": "code",
   "execution_count": null,
   "id": "32557ebb",
   "metadata": {},
   "outputs": [],
   "source": [
    "#3. Error Rate (Step Reversals)\n",
    "#The process_step is mapped to numeric order (step_1 = 1, step_2 = 2, etc.) so it can be compared.\n",
    "#If the next step number is less than the current one, it means the user went backwards — possibly due to confusion or error.\n",
    "#These are counted as errors with a value of 1.\n",
    "#Later, the average error rate per step or variation is calculated."
   ]
  },
  {
   "cell_type": "code",
   "execution_count": 31,
   "id": "4f747b30",
   "metadata": {},
   "outputs": [
    {
     "name": "stdout",
     "output_type": "stream",
     "text": [
      "=== Completion Rate by Variation ===\n",
      "           completion_rate  count\n",
      "Variation                        \n",
      "Control           0.655873  23532\n",
      "Test              0.692932  26968\n",
      "\n",
      "=== Avg Time Spent on Each Step (seconds) ===\n",
      "process_step     confirm      start     step_1     step_2      step_3\n",
      "Variation                                                            \n",
      "Control       153.003307  62.906464  50.227453  91.579342  135.375146\n",
      "Test          236.237553  60.555121  60.499453  88.585598  128.953546\n",
      "\n",
      "=== Error Rate by Variation ===\n",
      "           error_rate\n",
      "Variation            \n",
      "Control      0.261941\n",
      "Test         0.334359\n",
      "\n",
      "=== KPI Summary by Variation ===\n",
      "           completion_rate  count  error_rate     confirm      start  \\\n",
      "Variation                                                              \n",
      "Control           0.655873  23532    0.261941  153.003307  62.906464   \n",
      "Test              0.692932  26968    0.334359  236.237553  60.555121   \n",
      "\n",
      "              step_1     step_2      step_3  \n",
      "Variation                                    \n",
      "Control    50.227453  91.579342  135.375146  \n",
      "Test       60.499453  88.585598  128.953546  \n"
     ]
    }
   ],
   "source": [
    "# DAY3\n",
    "#CONTROL is old one, Test is the new one\n",
    "# Based on the chosen KPIs, how does the new design's performance compare to the old one?\n",
    "\n",
    "# --- STEP 1: Merge table1 and table2 on client_id ---\n",
    "df2_3_4 = new_df2_df3.merge(df4, on='client_id', how='left')\n",
    "# Ensure datetime is parsed correctly\n",
    "df2_3_4['date_time'] = pd.to_datetime(df2_3_4['date_time'])\n",
    "# Sort by client/session/timestamp\n",
    "df2_3_4 = df2_3_4.sort_values(by=['client_id', 'visit_id', 'date_time'])\n",
    "# Define step order to help with logic\n",
    "step_order = {\n",
    "    'start': 0,\n",
    "    'step_1': 1,\n",
    "    'step_2': 2,\n",
    "    'step_3': 3,\n",
    "    'confirm': 4\n",
    "}\n",
    "# Map numeric step order for easier comparison\n",
    "df2_3_4['step_num'] = df2_3_4['process_step'].map(step_order)\n",
    "# --- STEP 2: Completion Rate ---\n",
    "# A user is considered complete if they reached the 'confirm' step\n",
    "completion = df2_3_4[df2_3_4['process_step'] == 'confirm'].groupby('client_id').size().reset_index(name='completed')\n",
    "completion['completed'] = 1\n",
    "# Merge back with main df to keep variation info\n",
    "client_variation = df2_3_4[['client_id', 'Variation']].drop_duplicates()\n",
    "completion = client_variation.merge(completion, on='client_id', how='left')\n",
    "completion['completed'] = completion['completed'].fillna(0)\n",
    "# Completion rate by variation\n",
    "completion_rate = completion.groupby('Variation')['completed'].agg(['mean', 'count']).rename(columns={'mean': 'completion_rate'})\n",
    "print(\"=== Completion Rate by Variation ===\")\n",
    "print(completion_rate)\n",
    "# --- STEP 3: Time Spent on Each Step ---\n",
    "# Calculate time difference between steps within each visit\n",
    "df2_3_4['next_time'] = df2_3_4.groupby(['client_id', 'visit_id'])['date_time'].shift(-1)\n",
    "df2_3_4['time_spent'] = (df2_3_4['next_time'] - df2_3_4['date_time']).dt.total_seconds()\n",
    "# Average time per step per variation\n",
    "time_per_step = df2_3_4.groupby(['Variation', 'process_step'])['time_spent'].mean().unstack()\n",
    "print(\"\\n=== Avg Time Spent on Each Step (seconds) ===\")\n",
    "print(time_per_step)\n",
    "# --- STEP 4: Error Rate (Step Reversals) ---\n",
    "# An error is when the step number decreases from previous step\n",
    "df2_3_4['prev_step_num'] = df2_3_4.groupby(['client_id', 'visit_id'])['step_num'].shift(1)\n",
    "df2_3_4['is_error'] = (df2_3_4['step_num'] < df2_3_4['prev_step_num']).astype(int)\n",
    "# Count errors per user/session\n",
    "errors = df2_3_4.groupby('client_id')['is_error'].sum().reset_index(name='error_count')\n",
    "errors = client_variation.merge(errors, on='client_id', how='left')\n",
    "errors['error_count'] = errors['error_count'].fillna(0)\n",
    "# Error rate = % of clients with at least one backward step\n",
    "errors['had_error'] = (errors['error_count'] > 0).astype(int)\n",
    "error_rate = errors.groupby('Variation')['had_error'].mean().to_frame(name='error_rate')\n",
    "print(\"\\n=== Error Rate by Variation ===\")\n",
    "print(error_rate)\n",
    "# --- OPTIONAL: Combine all KPIs ---\n",
    "summary = completion_rate.join(error_rate).join(time_per_step)\n",
    "print(\"\\n=== KPI Summary by Variation ===\")\n",
    "print(summary)"
   ]
  }
 ],
 "metadata": {
  "kernelspec": {
   "display_name": "project5_group3_vanguard",
   "language": "python",
   "name": "python3"
  },
  "language_info": {
   "codemirror_mode": {
    "name": "ipython",
    "version": 3
   },
   "file_extension": ".py",
   "mimetype": "text/x-python",
   "name": "python",
   "nbconvert_exporter": "python",
   "pygments_lexer": "ipython3",
   "version": "3.13.5"
  }
 },
 "nbformat": 4,
 "nbformat_minor": 5
}
